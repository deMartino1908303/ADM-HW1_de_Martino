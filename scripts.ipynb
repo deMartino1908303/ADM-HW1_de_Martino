{
 "cells": [
  {
   "cell_type": "markdown",
   "id": "14835af7",
   "metadata": {},
   "source": [
    "# Lists"
   ]
  },
  {
   "cell_type": "code",
   "execution_count": null,
   "id": "70251ad6",
   "metadata": {},
   "outputs": [],
   "source": [
    "if __name__ == '__main__':\n",
    "    N = int(input())\n",
    "    l=[]\n",
    "    \n",
    "    for trash in range(N) :\n",
    "        \n",
    "        CMD = list(input().split())\n",
    "        if CMD[0] == \"insert\" :\n",
    "            l.insert(int(CMD[1]), int(CMD[2]))\n",
    "            \n",
    "        elif CMD[0] == \"print\" :\n",
    "            print (l)\n",
    "        \n",
    "        elif CMD[0] == \"remove\" :\n",
    "            l.remove(int(CMD[1]))\n",
    "        \n",
    "        elif CMD[0] == \"append\" :\n",
    "            l.append(int(CMD[1]))\n",
    "        \n",
    "        elif CMD[0] == \"sort\" :\n",
    "            l.sort()\n",
    "        \n",
    "        elif CMD[0] == \"pop\" :\n",
    "            l.pop()\n",
    "        \n",
    "        elif CMD[0] == \"reverse\" :\n",
    "            l.reverse()\n",
    "        \n"
   ]
  },
  {
   "cell_type": "markdown",
   "id": "c10ccefb",
   "metadata": {},
   "source": [
    "# Capitalize!"
   ]
  },
  {
   "cell_type": "code",
   "execution_count": null,
   "id": "7d9c300e",
   "metadata": {},
   "outputs": [],
   "source": [
    "\n",
    "# Complete the solve function below.\n",
    "def solve(s):\n",
    "    # initiate anb empty list and transform in a list the string\n",
    "    lf = []\n",
    "    lis = s.split(\" \")\n",
    "    # iterating over all the char in the string\n",
    "    for var in lis:\n",
    "        # tmp = var.capitalize()\n",
    "        lf.append(var.capitalize())\n",
    "        \n",
    "    fin = ' '.join(lf)\n",
    "    return fin\n"
   ]
  },
  {
   "cell_type": "markdown",
   "id": "1b417e4b",
   "metadata": {},
   "source": [
    "# Finding the percentage"
   ]
  },
  {
   "cell_type": "code",
   "execution_count": null,
   "id": "c5138971",
   "metadata": {},
   "outputs": [],
   "source": [
    "if __name__ == '__main__':\n",
    "    n = int(input())\n",
    "    student_marks = {}\n",
    "    for _ in range(n):\n",
    "        name, *line = input().split()\n",
    "        scores = list(map(float, line))\n",
    "        student_marks[name] = scores\n",
    "    \n",
    "    query_name = input()\n",
    "    \n",
    "    print('%.2f' % (sum(student_marks[query_name])/3))\n"
   ]
  },
  {
   "cell_type": "markdown",
   "id": "8b469c19",
   "metadata": {},
   "source": [
    "# Alphabet Rangoli"
   ]
  },
  {
   "cell_type": "code",
   "execution_count": null,
   "id": "8feea930",
   "metadata": {},
   "outputs": [],
   "source": [
    "def print_rangoli(size):\n",
    "    # your code goes here\n",
    "    alph = 'zyxwvutsrqponmlkjihgfedcba'\n",
    "    starting_point = len(alph) - size\n",
    "    alph_need = alph[starting_point:]\n",
    "    width = ((size*2)-1) + ((size * 2) - 2)\n",
    "    for i in range(1, size+1):\n",
    "        what = alph_need[0:i]+ (alph_need[0:i-1])[::-1]\n",
    "        what = \"-\".join(list(what))\n",
    "        print(\"{lett:-^{tag}}\".format(lett=what, tag=width))\n",
    "    for i in range(size-1, 0, -1):\n",
    "        what = alph_need[0:i]+ (alph_need[0:i-1])[::-1]\n",
    "        what = \"-\".join(list(what))\n",
    "        print(\"{lett:-^{tag}}\".format(lett=what, tag=width))\n",
    "   \n",
    "   \n"
   ]
  },
  {
   "cell_type": "markdown",
   "id": "055e80d9",
   "metadata": {},
   "source": [
    "# List Comprehensions"
   ]
  },
  {
   "cell_type": "code",
   "execution_count": null,
   "id": "84c452a0",
   "metadata": {},
   "outputs": [],
   "source": [
    "if __name__ == '__main__':\n",
    "    x = int(input())\n",
    "    y = int(input())\n",
    "    z = int(input())\n",
    "    n = int(input())\n",
    "    \n",
    "    # create a list of lists of integers and an empty list\n",
    "    lis = [[a, b, c] for a in range(x+1) for b in range(y+1) for c in range(z+1)]\n",
    "    lf=[]\n",
    "# iterate\n",
    "    for tem in lis:\n",
    "        if sum(tem) != n:\n",
    "            lf.append(tem)\n",
    "    \n",
    "    print(lf)\n"
   ]
  },
  {
   "cell_type": "markdown",
   "id": "434ea1ce",
   "metadata": {},
   "source": [
    "# Find the Runner-Up Score!"
   ]
  },
  {
   "cell_type": "code",
   "execution_count": null,
   "id": "f2358fa6",
   "metadata": {},
   "outputs": [],
   "source": [
    "if __name__ == '__main__':\n",
    "    n = int(input())\n",
    "    arr = map(int, input().split())\n",
    "l=[x for x in arr]\n",
    "l.sort()\n",
    "#print(n,l)\n",
    "tmp=l[n-1]\n",
    "while tmp==l[n-1]:\n",
    "    del l[n-1]\n",
    "    n-=1\n",
    "    #print(n, l)\n",
    "print (l[n-1])\n",
    "    \n"
   ]
  },
  {
   "cell_type": "markdown",
   "id": "a7f120dc",
   "metadata": {},
   "source": [
    "# Nested Lists"
   ]
  },
  {
   "cell_type": "code",
   "execution_count": null,
   "id": "333c89c3",
   "metadata": {},
   "outputs": [],
   "source": [
    "if __name__ == '__main__':\n",
    "    l = []\n",
    "    sl = []\n",
    "    fnl=[]\n",
    "    for _ in range(int(input())):\n",
    "        name = input()\n",
    "        score = float(input())\n",
    "        tmp = [score, name]\n",
    "        sl.append(score)\n",
    "        l.append(tmp)\n",
    "    \n",
    "    l.sort(reverse=True)\n",
    "    last = len(l)-1\n",
    "    cntr=l[last][0]\n",
    "    while cntr == l[last][0] :\n",
    "        l.pop(len(l)-1)\n",
    "        last = len(l)-1\n",
    "    last = len(l)-1\n",
    "    \n",
    "    if sl.count(l[last][0])== 1 :\n",
    "        print (l[last][1])\n",
    "    else:\n",
    "        \n",
    "        for grp in l:\n",
    "            if grp[0]==l[last][0]:\n",
    "                tmp= grp[1]\n",
    "                fnl.append(tmp)\n",
    "        \n",
    "        fnl.sort()\n",
    "        \n",
    "        for nm in fnl:\n",
    "            print (nm, end='\\n')\n"
   ]
  },
  {
   "cell_type": "markdown",
   "id": "e6d6600e",
   "metadata": {},
   "source": [
    "# The Minion Game"
   ]
  },
  {
   "cell_type": "code",
   "execution_count": null,
   "id": "6377f772",
   "metadata": {},
   "outputs": [],
   "source": [
    "def minion_game(st):\n",
    "    # your code goes here\n",
    "    st_ln=len(st)\n",
    "    kv_scr=0\n",
    "    st_scr=0\n",
    "    \n",
    "    for val in range(st_ln):\n",
    "        \n",
    "        if str(st[val]) == 'A':\n",
    "            kv_scr += st_ln - val\n",
    "        elif str(st[val]) == 'E':\n",
    "            kv_scr += st_ln - val\n",
    "        elif str(st[val]) == 'I':\n",
    "            kv_scr += st_ln - val\n",
    "        elif str(st[val]) == 'O':\n",
    "            kv_scr += st_ln - val\n",
    "        elif str(st[val]) == 'U':\n",
    "            kv_scr += st_ln - val\n",
    "        else:\n",
    "            st_scr += st_ln -val\n",
    "            \n",
    "    if kv_scr > st_scr :\n",
    "        print (\"Kevin\", kv_scr)\n",
    "    elif kv_scr < st_scr:\n",
    "        print (\"Stuart\", st_scr)\n",
    "    else:\n",
    "        print (\"Draw\")\n"
   ]
  },
  {
   "cell_type": "markdown",
   "id": "c055d8c3",
   "metadata": {},
   "source": [
    "# Merge the Tools!"
   ]
  },
  {
   "cell_type": "code",
   "execution_count": null,
   "id": "6d204c06",
   "metadata": {},
   "outputs": [],
   "source": [
    "def merge_the_tools(string, k):\n",
    "    # your code goes here\n",
    "    from collections import OrderedDict\n",
    "    from itertools import islice\n",
    "    sbstr_num = int(len(string)/k)\n",
    "    y = []\n",
    "    sbstr_len = k\n",
    "    start = 0\n",
    "    for _ in range(sbstr_num):\n",
    "        y.append(list(islice(string, start,sbstr_len)))\n",
    "        start += k\n",
    "        sbstr_len += k\n",
    "    for x in y:\n",
    "        print(\"\".join(list(OrderedDict.fromkeys(x))))\n"
   ]
  },
  {
   "cell_type": "markdown",
   "id": "b4657922",
   "metadata": {},
   "source": [
    "# What's Your Name?"
   ]
  },
  {
   "cell_type": "code",
   "execution_count": null,
   "id": "c03bbdd2",
   "metadata": {},
   "outputs": [],
   "source": [
    "#\n",
    "# Complete the 'print_full_name' function below.\n",
    "#\n",
    "# The function is expected to return a STRING.\n",
    "# The function accepts following parameters:\n",
    "#  1. STRING first\n",
    "#  2. STRING last\n",
    "#\n",
    "def print_full_name(first, last):\n",
    "    # Write your code here\n",
    "    print('Hello ' + first + ' ' + last+ '! You just delved into python.')\n",
    "    \n"
   ]
  },
  {
   "cell_type": "markdown",
   "id": "a535292b",
   "metadata": {},
   "source": [
    "# No Idea!"
   ]
  },
  {
   "cell_type": "code",
   "execution_count": null,
   "id": "30a6d98c",
   "metadata": {},
   "outputs": [],
   "source": [
    "# Enter your code here. Read input from STDIN. Print output to STDOUT\n",
    "from collections import Counter\n",
    "useless = input()\n",
    "obj_list = Counter(input().split())\n",
    "like = list(input().split())\n",
    "dislike = list(input().split())\n",
    "happy = 0\n",
    "for x in like : happy += obj_list[x]\n",
    "for y in dislike : happy -= obj_list[y]\n",
    "print(happy)\n"
   ]
  },
  {
   "cell_type": "markdown",
   "id": "b443d0ef",
   "metadata": {},
   "source": [
    "# Set .add()"
   ]
  },
  {
   "cell_type": "code",
   "execution_count": null,
   "id": "2123c24c",
   "metadata": {},
   "outputs": [],
   "source": [
    "# Enter your code here. Read input from STDIN. Print output to STDOUT\n",
    "num = int(input())\n",
    "big_list = [input() for _ in range(0, num)]\n",
    "print(len(set(big_list)))\n"
   ]
  },
  {
   "cell_type": "markdown",
   "id": "12ad3b60",
   "metadata": {},
   "source": [
    "# The Captain's Room"
   ]
  },
  {
   "cell_type": "code",
   "execution_count": null,
   "id": "f548335a",
   "metadata": {},
   "outputs": [],
   "source": [
    "# Enter your code here. Read input from STDIN. Print output to STDOUT\n",
    "from collections import Counter\n",
    "trash = input()\n",
    "\n",
    "room_list = input().split()\n",
    "\n",
    "room_list = Counter(room_list)\n",
    "\n",
    "cap = room_list.most_common()[:-1-1:-1]\n",
    "\n",
    "print(cap[0][0])\n"
   ]
  },
  {
   "cell_type": "markdown",
   "id": "63ff8444",
   "metadata": {},
   "source": [
    "# Set .union() Operation"
   ]
  },
  {
   "cell_type": "code",
   "execution_count": null,
   "id": "d9aa2c10",
   "metadata": {},
   "outputs": [],
   "source": [
    "# Enter your code here. Read input from STDIN. Print output to STDOUT\n",
    "en = int(input())\n",
    "en_np = set(input().split())\n",
    "fr = int(input())\n",
    "fr_np = set(input().split())\n",
    "print ( len((en_np|fr_np)))\n"
   ]
  },
  {
   "cell_type": "markdown",
   "id": "490f30d6",
   "metadata": {},
   "source": [
    "# Mod Divmod"
   ]
  },
  {
   "cell_type": "code",
   "execution_count": null,
   "id": "4e65ce3b",
   "metadata": {},
   "outputs": [],
   "source": [
    "# Enter your code here. Read input from STDIN. Print output to STDOUT\n",
    "n1 = int(input())\n",
    "n2 = int(input())\n",
    "print (n1//n2, n1%n2, divmod(n1,n2), sep=\"\\n\")\n"
   ]
  },
  {
   "cell_type": "markdown",
   "id": "7be7120a",
   "metadata": {},
   "source": [
    "# Power - Mod Power"
   ]
  },
  {
   "cell_type": "code",
   "execution_count": null,
   "id": "14020555",
   "metadata": {},
   "outputs": [],
   "source": [
    "# Enter your code here. Read input from STDIN. Print output to STDOUT\n",
    "n1 = int(input())\n",
    "n2 = int(input())\n",
    "n3 = int(input())\n",
    "print( pow(n1,n2), pow(n1,n2,n3), sep=\"\\n\")\n"
   ]
  },
  {
   "cell_type": "markdown",
   "id": "b6ecc8e1",
   "metadata": {},
   "source": [
    "# Integers Come In All Sizes"
   ]
  },
  {
   "cell_type": "code",
   "execution_count": null,
   "id": "7676cabb",
   "metadata": {},
   "outputs": [],
   "source": [
    "# Enter your code here. Read input from STDIN. Print output to STDOUT\n",
    "a = int(input())\n",
    "b = int(input())\n",
    "c = int(input())\n",
    "d = int(input())\n",
    "print(pow(a,b)+pow(c,d))\n"
   ]
  },
  {
   "cell_type": "markdown",
   "id": "c3528b91",
   "metadata": {},
   "source": [
    "# Polar Coordinates"
   ]
  },
  {
   "cell_type": "code",
   "execution_count": null,
   "id": "986faf4f",
   "metadata": {},
   "outputs": [],
   "source": [
    "# Enter your code here. Read input from STDIN. Print output to STDOUT\n",
    "import cmath\n",
    "z = complex(input())\n",
    "for y in list(cmath.polar(z)):\n",
    "    print (y)\n"
   ]
  },
  {
   "cell_type": "markdown",
   "id": "92fb9f1e",
   "metadata": {},
   "source": [
    "# itertools.product()"
   ]
  },
  {
   "cell_type": "code",
   "execution_count": null,
   "id": "809aeae3",
   "metadata": {},
   "outputs": [],
   "source": [
    "# Enter your code here. Read input from STDIN. Print output to STDOUT\n",
    "from itertools import product\n",
    "a = map(int,input().split())\n",
    "b = map(int,input().split())\n",
    "for x in list(product(a, b)):\n",
    "    print (x, end = \" \")\n"
   ]
  },
  {
   "cell_type": "markdown",
   "id": "75a7106c",
   "metadata": {},
   "source": [
    "# itertools.permutations()"
   ]
  },
  {
   "cell_type": "code",
   "execution_count": null,
   "id": "37ac76c2",
   "metadata": {},
   "outputs": [],
   "source": [
    "# Enter your code here. Read input from STDIN. Print output to STDOUT\n",
    "from itertools import permutations\n",
    "a = input().split()\n",
    "b = list(permutations(a[0],int(a[1])))\n",
    "b.sort()\n",
    "for x in b :\n",
    "    y=\"\".join(x)   \n",
    "    print(y)\n"
   ]
  },
  {
   "cell_type": "markdown",
   "id": "27399c04",
   "metadata": {},
   "source": [
    "# itertools.combinations()"
   ]
  },
  {
   "cell_type": "code",
   "execution_count": null,
   "id": "1f0d9d9e",
   "metadata": {},
   "outputs": [],
   "source": [
    "# Enter your code here. Read input from STDIN. Print output to STDOUT\n",
    "from itertools import combinations\n",
    "a = input().split()\n",
    "b = list(a[0])\n",
    "b.sort()\n",
    "for x in range(1,int(a[1])+1):\n",
    "    c = list(combinations(b, x))\n",
    "    tmp = []\n",
    "    for y in c:\n",
    "        print(\"\".join(y))\n"
   ]
  },
  {
   "cell_type": "markdown",
   "id": "05bac8ca",
   "metadata": {},
   "source": [
    "# itertools.combinations_with_replacement()"
   ]
  },
  {
   "cell_type": "code",
   "execution_count": null,
   "id": "f7db3a8e",
   "metadata": {},
   "outputs": [],
   "source": [
    "# Enter your code here. Read input from STDIN. Print output to STDOUT\n",
    "from itertools import combinations_with_replacement\n",
    "a = input().split()\n",
    "b = list(a[0])\n",
    "b.sort()\n",
    "c = list(combinations_with_replacement(b,int(a[1])))\n",
    "for x in c:\n",
    "    print(\"\".join(x))\n"
   ]
  },
  {
   "cell_type": "markdown",
   "id": "b5678884",
   "metadata": {},
   "source": [
    "# collections.Counter()"
   ]
  },
  {
   "cell_type": "code",
   "execution_count": null,
   "id": "6eb356d9",
   "metadata": {},
   "outputs": [],
   "source": [
    "# Enter your code here. Read input from STDIN. Print output to STDOUT\n",
    "from collections import Counter\n",
    "trash, shoes, iterable = input(), input().split(), int(input())\n",
    "shoes = dict(Counter(shoes))\n",
    "earnings = 0\n",
    "while iterable > 0:\n",
    "    \n",
    "    tmp = input().split()\n",
    "    size = tmp[0]\n",
    "    \n",
    "    if size in shoes.keys():\n",
    "        if shoes[size] > 0:\n",
    "            shoes[size] = shoes[size] -1\n",
    "            earnings += int(tmp[1])\n",
    "            \n",
    "    iterable -= 1\n",
    "print(earnings)\n"
   ]
  },
  {
   "cell_type": "markdown",
   "id": "594941e1",
   "metadata": {},
   "source": [
    "# DefaultDict Tutorial"
   ]
  },
  {
   "cell_type": "code",
   "execution_count": null,
   "id": "8d6c836b",
   "metadata": {},
   "outputs": [],
   "source": [
    "# Enter your code here. Read input from STDIN. Print output to STDOUT# Enter your code here. Read input from STDIN. Print output to STDOUT\n",
    "from collections import defaultdict\n",
    "leng= input().split()\n",
    "grpA= defaultdict(list)\n",
    "for x in range(1,int(leng[0])+1):\n",
    "    tmp = input()\n",
    "    grpA[tmp].append(str(x))\n",
    "\n",
    "for y in range(int(leng[1])):\n",
    "    tmp1 = input()\n",
    "    ver = tmp1 in dict(grpA).keys()\n",
    "    if ver:\n",
    "        print(\" \".join(grpA.get(tmp1)))\n",
    "    else:\n",
    "        print(\"-1\")\n"
   ]
  },
  {
   "cell_type": "markdown",
   "id": "4ef93d45",
   "metadata": {},
   "source": [
    "# Collections.OrderedDict()"
   ]
  },
  {
   "cell_type": "code",
   "execution_count": null,
   "id": "3fe2b950",
   "metadata": {},
   "outputs": [],
   "source": [
    "# Enter your code here. Read input from STDIN. Print output to STDOUT\n",
    "from collections import OrderedDict\n",
    "n_itm = int(input())\n",
    "item_dic = OrderedDict()\n",
    "while n_itm > 0 :\n",
    "    itm = input().split()\n",
    "    itm_cost = int(itm.pop(-1))\n",
    "    itm_name = \" \".join(itm)\n",
    "    if itm_name in item_dic.keys():\n",
    "        item_dic[itm_name] = item_dic.get(itm_name) + itm_cost\n",
    "    else:\n",
    "        item_dic.setdefault(\" \".join(itm), itm_cost)\n",
    "    n_itm -=1\n",
    "for x in item_dic.keys():\n",
    "    print(x, item_dic[x])\n"
   ]
  },
  {
   "cell_type": "markdown",
   "id": "8728d5ba",
   "metadata": {},
   "source": [
    "# Piling Up!"
   ]
  },
  {
   "cell_type": "code",
   "execution_count": null,
   "id": "b16d9ad4",
   "metadata": {},
   "outputs": [],
   "source": [
    "# Enter your code here. Read input from STDIN. Print output to STDOUT\n",
    "from collections import deque\n",
    "n_itr = int(input())\n",
    "while n_itr > 0 :\n",
    "    steps = int(input())\n",
    "    block = deque(input().split())\n",
    "    val = 2147483648\n",
    "    while steps > 0 :\n",
    "        test1 = int(block[0]) <= int(val)\n",
    "        test2 = int(block[-1]) <= int(val)\n",
    "        if test1 and test2:\n",
    "            \n",
    "            if int(block[0])>int(block[-1]):\n",
    "                val = block.popleft()\n",
    "            else:\n",
    "                val = block.pop()\n",
    "                \n",
    "        elif test1 :\n",
    "            val = block.popleft()\n",
    "                \n",
    "        elif test2 :\n",
    "            \n",
    "            val = block.pop()\n",
    "        else:\n",
    "            \n",
    "            print('No')\n",
    "            break\n",
    "        \n",
    "        steps-=1\n",
    "    \n",
    "    if steps == 0:\n",
    "        print('Yes')\n",
    "    n_itr-=1\n",
    "    \n"
   ]
  },
  {
   "cell_type": "markdown",
   "id": "8dcde9f6",
   "metadata": {},
   "source": [
    "# Designer Door Mat"
   ]
  },
  {
   "cell_type": "code",
   "execution_count": null,
   "id": "9a76cbfd",
   "metadata": {},
   "outputs": [],
   "source": [
    "# Enter your code here. Read input from STDIN. Print output to STDOUT\n",
    "info = input().split()\n",
    "count = 1\n",
    "while count < int(info[0]):\n",
    "    print((\".|.\" * count).center(int(info[1]),\"-\"))\n",
    "    count += 2\n",
    "    \n",
    "print(\"WELCOME\".center(int(info[1]),\"-\"))\n",
    "count -= 2\n",
    "while count > 0:\n",
    "    print((\".|.\" * count).center(int(info[1]),\"-\"))\n",
    "    count -= 2\n",
    "    \n"
   ]
  },
  {
   "cell_type": "markdown",
   "id": "73b3ba25",
   "metadata": {},
   "source": [
    "# sWAP cASE"
   ]
  },
  {
   "cell_type": "code",
   "execution_count": null,
   "id": "e836df2e",
   "metadata": {},
   "outputs": [],
   "source": [
    "def swap_case(s):\n",
    "    return s.swapcase()\n"
   ]
  },
  {
   "cell_type": "markdown",
   "id": "4a209f04",
   "metadata": {},
   "source": [
    "# Mutations"
   ]
  },
  {
   "cell_type": "code",
   "execution_count": null,
   "id": "26b860ea",
   "metadata": {},
   "outputs": [],
   "source": [
    "def mutate_string(string, position, character):\n",
    "    \n",
    "    return string [:position] + character + string[position+1:]\n"
   ]
  },
  {
   "cell_type": "markdown",
   "id": "3a55e323",
   "metadata": {},
   "source": [
    "# Text Wrap"
   ]
  },
  {
   "cell_type": "code",
   "execution_count": null,
   "id": "e20e9ae6",
   "metadata": {},
   "outputs": [],
   "source": [
    "\n",
    "def wrap(string, max_width):\n",
    "    splitted = textwrap.wrap(string, max_width)\n",
    "    return \"\\n\".join(splitted)\n",
    "\n"
   ]
  },
  {
   "cell_type": "markdown",
   "id": "ab8633e4",
   "metadata": {},
   "source": [
    "# Compare the Triplets"
   ]
  },
  {
   "cell_type": "code",
   "execution_count": null,
   "id": "3e7a8bc0",
   "metadata": {},
   "outputs": [],
   "source": [
    "#!/bin/python3\n",
    "import math\n",
    "import os\n",
    "import random\n",
    "import re\n",
    "import sys\n",
    "#\n",
    "# Complete the 'compareTriplets' function below.\n",
    "#\n",
    "# The function is expected to return an INTEGER_ARRAY.\n",
    "# The function accepts following parameters:\n",
    "#  1. INTEGER_ARRAY a\n",
    "#  2. INTEGER_ARRAY b\n",
    "#\n",
    "def compareTriplets(a, b):\n",
    "    player_a = 0\n",
    "    player_b = 0\n",
    "    b_count = 0\n",
    "    for value in a:\n",
    "        if value > b[b_count]:\n",
    "            player_a += 1\n",
    "        elif value < b[b_count]:\n",
    "            player_b += 1\n",
    "        b_count += 1\n",
    "    L = [player_a, player_b]\n",
    "    return L\n",
    "if __name__ == '__main__':\n",
    "    fptr = open(os.environ['OUTPUT_PATH'], 'w')\n",
    "    a = list(map(int, input().rstrip().split()))\n",
    "    b = list(map(int, input().rstrip().split()))\n",
    "    result = compareTriplets(a, b)\n",
    "    fptr.write(' '.join(map(str, result)))\n",
    "    fptr.write('\\n')\n",
    "    fptr.close()\n"
   ]
  },
  {
   "cell_type": "markdown",
   "id": "c67eddaf",
   "metadata": {},
   "source": [
    "# Birthday Cake Candles"
   ]
  },
  {
   "cell_type": "code",
   "execution_count": null,
   "id": "4f9bd535",
   "metadata": {},
   "outputs": [],
   "source": [
    "#!/bin/python3\n",
    "import math\n",
    "import os\n",
    "import random\n",
    "import re\n",
    "import sys\n",
    "#\n",
    "# Complete the 'birthdayCakeCandles' function below.\n",
    "#\n",
    "# The function is expected to return an INTEGER.\n",
    "# The function accepts INTEGER_ARRAY candles as parameter.\n",
    "#\n",
    "def birthdayCakeCandles(candles):\n",
    "    max_val = max(candles)\n",
    "    return candles.count(max_val)\n",
    "if __name__ == '__main__':\n",
    "    fptr = open(os.environ['OUTPUT_PATH'], 'w')\n",
    "    candles_count = int(input().strip())\n",
    "    candles = list(map(int, input().rstrip().split()))\n",
    "    result = birthdayCakeCandles(candles)\n",
    "    fptr.write(str(result) + '\\n')\n",
    "    fptr.close()\n"
   ]
  },
  {
   "cell_type": "markdown",
   "id": "edce3391",
   "metadata": {},
   "source": [
    "# Time Conversion"
   ]
  },
  {
   "cell_type": "code",
   "execution_count": null,
   "id": "d7a9b252",
   "metadata": {},
   "outputs": [],
   "source": [
    "#!/bin/python3\n",
    "import math\n",
    "import os\n",
    "import random\n",
    "import re\n",
    "import sys\n",
    "#\n",
    "# Complete the 'timeConversion' function below.\n",
    "#\n",
    "# The function is expected to return a STRING.\n",
    "# The function accepts STRING s as parameter.\n",
    "#\n",
    "def timeConversion(s):\n",
    "    L = s.split(\":\")\n",
    "    part_day = str(L[2])\n",
    "    if part_day[2:] == \"PM\" and L[0] != \"12\":\n",
    "        time  = str(int(L[0])+12)+\":\"+L[1]+\":\"+part_day[0:2]\n",
    "    elif L[0] == \"12\" and part_day[2:] == \"AM\":\n",
    "        time  = \"00\"+\":\"+L[1]+\":\"+part_day[0:2]\n",
    "    elif L[0] == \"12\" and part_day[2:] == \"PM\":\n",
    "        time  = L[0]+\":\"+L[1]+\":\"+part_day[0:2]\n",
    "    else :\n",
    "        time  = L[0]+\":\"+L[1]+\":\"+part_day[0:2]\n",
    "        \n",
    "    return time\n",
    "if __name__ == '__main__':\n",
    "    fptr = open(os.environ['OUTPUT_PATH'], 'w')\n",
    "    s = input()\n",
    "    result = timeConversion(s)\n",
    "    fptr.write(result + '\\n')\n",
    "    fptr.close()\n"
   ]
  },
  {
   "cell_type": "markdown",
   "id": "15334edf",
   "metadata": {},
   "source": [
    "# Staircase"
   ]
  },
  {
   "cell_type": "code",
   "execution_count": null,
   "id": "f874a243",
   "metadata": {},
   "outputs": [],
   "source": [
    "#!/bin/python3\n",
    "import math\n",
    "import os\n",
    "import random\n",
    "import re\n",
    "import sys\n",
    "#\n",
    "# Complete the 'staircase' function below.\n",
    "#\n",
    "# The function accepts INTEGER n as parameter.\n",
    "#\n",
    "def staircase(n):\n",
    "    for count in range (n):\n",
    "        print (\" \" * (n - count - 1), \"#\" * (count+1) , sep = \"\")\n",
    "if __name__ == '__main__':\n",
    "    n = int(input().strip())\n",
    "    staircase(n)\n"
   ]
  },
  {
   "cell_type": "markdown",
   "id": "6770ec1b",
   "metadata": {},
   "source": [
    "# Plus Minus"
   ]
  },
  {
   "cell_type": "code",
   "execution_count": null,
   "id": "a13350ae",
   "metadata": {},
   "outputs": [],
   "source": [
    "#!/bin/python3\n",
    "import math\n",
    "import os\n",
    "import random\n",
    "import re\n",
    "import sys\n",
    "#\n",
    "# Complete the 'plusMinus' function below.\n",
    "#\n",
    "# The function accepts INTEGER_ARRAY arr as parameter.\n",
    "#\n",
    "def plusMinus(arr):\n",
    "    pos = 0\n",
    "    neg = 0\n",
    "    zero = 0\n",
    "    for value in arr :\n",
    "        if value > 0 :\n",
    "            pos += 1\n",
    "        elif value < 0 :\n",
    "            neg += 1\n",
    "        else:\n",
    "            zero +=1\n",
    "    \n",
    "    pos_rate = pos / len(arr)\n",
    "    neg_rate = neg / len(arr)\n",
    "    zero_rate = zero / len(arr)\n",
    "    print(\"%.6f\" % pos_rate,\"%.6f\" % neg_rate,\"%.6f\" % zero_rate, sep = \"\\n\")\n",
    "if __name__ == '__main__':\n",
    "    n = int(input().strip())\n",
    "    arr = list(map(int, input().rstrip().split()))\n",
    "    plusMinus(arr)\n"
   ]
  },
  {
   "cell_type": "markdown",
   "id": "553aafa1",
   "metadata": {},
   "source": [
    "# A Very Big Sum"
   ]
  },
  {
   "cell_type": "code",
   "execution_count": null,
   "id": "dde38e2d",
   "metadata": {},
   "outputs": [],
   "source": [
    "#!/bin/python3\n",
    "import math\n",
    "import os\n",
    "import random\n",
    "import re\n",
    "import sys\n",
    "#\n",
    "# Complete the 'aVeryBigSum' function below.\n",
    "#\n",
    "# The function is expected to return a LONG_INTEGER.\n",
    "# The function accepts LONG_INTEGER_ARRAY ar as parameter.\n",
    "#\n",
    "def aVeryBigSum(ar):\n",
    "    big_sum = 0\n",
    "    for count in range (len (ar)):\n",
    "        big_sum += ar[count]\n",
    "        \n",
    "    return big_sum\n",
    "if __name__ == '__main__':\n",
    "    fptr = open(os.environ['OUTPUT_PATH'], 'w')\n",
    "    ar_count = int(input().strip())\n",
    "    ar = list(map(int, input().rstrip().split()))\n",
    "    result = aVeryBigSum(ar)\n",
    "    fptr.write(str(result) + '\\n')\n",
    "    fptr.close()\n"
   ]
  },
  {
   "cell_type": "markdown",
   "id": "a2c827ff",
   "metadata": {},
   "source": [
    "# Simple Array Sum"
   ]
  },
  {
   "cell_type": "code",
   "execution_count": null,
   "id": "20cdb05f",
   "metadata": {},
   "outputs": [],
   "source": [
    "#!/bin/python3\n",
    "import math\n",
    "import os\n",
    "import random\n",
    "import re\n",
    "import sys\n",
    "#\n",
    "# Complete the 'simpleArraySum' function below.\n",
    "#\n",
    "# The function is expected to return an INTEGER.\n",
    "# The function accepts INTEGER_ARRAY ar as parameter.\n",
    "#\n",
    "def simpleArraySum(ar):\n",
    "    big_sum = 0\n",
    "    for count in range (len (ar)):\n",
    "        big_sum += ar[count]\n",
    "        \n",
    "    return big_sum\n",
    "if __name__ == '__main__':\n",
    "    fptr = open(os.environ['OUTPUT_PATH'], 'w')\n",
    "    ar_count = int(input().strip())\n",
    "    ar = list(map(int, input().rstrip().split()))\n",
    "    result = simpleArraySum(ar)\n",
    "    fptr.write(str(result) + '\\n')\n",
    "    fptr.close()\n"
   ]
  },
  {
   "cell_type": "markdown",
   "id": "2093e766",
   "metadata": {},
   "source": [
    "# Diagonal Difference"
   ]
  },
  {
   "cell_type": "code",
   "execution_count": null,
   "id": "e614532b",
   "metadata": {},
   "outputs": [],
   "source": [
    "#!/bin/python3\n",
    "import math\n",
    "import os\n",
    "import random\n",
    "import re\n",
    "import sys\n",
    "#\n",
    "# Complete the 'diagonalDifference' function below.\n",
    "#\n",
    "# The function is expected to return an INTEGER.\n",
    "# The function accepts 2D_INTEGER_ARRAY arr as parameter.\n",
    "#\n",
    "def diagonalDifference(arr):\n",
    "    # Write your code here\n",
    "    pri_diag = 0\n",
    "    sec_diag = 0\n",
    "    for count in range(len(arr)):\n",
    "        pri_diag += int(arr[count][count])\n",
    "        sec_diag += int(arr[count][len(arr)-count-1])\n",
    "    return abs(pri_diag-sec_diag)\n",
    "if __name__ == '__main__':\n",
    "    fptr = open(os.environ['OUTPUT_PATH'], 'w')\n",
    "    n = int(input().strip())\n",
    "    arr = []\n",
    "    for _ in range(n):\n",
    "        arr.append(list(map(int, input().rstrip().split())))\n",
    "    result = diagonalDifference(arr)\n",
    "    fptr.write(str(result) + '\\n')\n",
    "    fptr.close()\n"
   ]
  },
  {
   "cell_type": "markdown",
   "id": "4e208baa",
   "metadata": {},
   "source": [
    "# Mini-Max Sum"
   ]
  },
  {
   "cell_type": "code",
   "execution_count": null,
   "id": "cc78262e",
   "metadata": {},
   "outputs": [],
   "source": [
    "#!/bin/python3\n",
    "import math\n",
    "import os\n",
    "import random\n",
    "import re\n",
    "import sys\n",
    "#\n",
    "# Complete the 'miniMaxSum' function below.\n",
    "#\n",
    "# The function accepts INTEGER_ARRAY arr as parameter.\n",
    "#\n",
    "def miniMaxSum(arr):\n",
    "    tot_sum = []\n",
    "    \n",
    "    for counter in range(len(arr)):\n",
    "        tmp_sum = 0\n",
    "        for count in range(len(arr)):\n",
    "            if count != counter:\n",
    "                tmp_sum += arr[count]\n",
    "        tot_sum.append(tmp_sum)\n",
    "    \n",
    "    print(min(tot_sum), max(tot_sum))\n",
    "if __name__ == '__main__':\n",
    "    arr = list(map(int, input().rstrip().split()))\n",
    "    miniMaxSum(arr)\n"
   ]
  },
  {
   "cell_type": "markdown",
   "id": "a0fa6b8a",
   "metadata": {},
   "source": [
    "# Solve Me First"
   ]
  },
  {
   "cell_type": "code",
   "execution_count": null,
   "id": "df1eb535",
   "metadata": {},
   "outputs": [],
   "source": [
    "\n",
    "def solveMeFirst(a,b):\n",
    "    # Hint: Type return a+b below\n",
    "    # i made it more fun\n",
    "    arr_a = [0]*a\n",
    "    arr_b = [0]*b\n",
    "    arr_a.extend(arr_b)\n",
    "    return len(arr_a)\n",
    "num1 = int(input())\n",
    "num2 = int(input())\n",
    "res = solveMeFirst(num1,num2)\n",
    "print(res)\n"
   ]
  },
  {
   "cell_type": "markdown",
   "id": "ec3527f5",
   "metadata": {},
   "source": [
    "# CamelCase"
   ]
  },
  {
   "cell_type": "code",
   "execution_count": null,
   "id": "c3605bfb",
   "metadata": {},
   "outputs": [],
   "source": [
    "#!/bin/python3\n",
    "import math\n",
    "import os\n",
    "import random\n",
    "import re\n",
    "import sys\n",
    "#\n",
    "# Complete the 'camelcase' function below.\n",
    "#\n",
    "# The function is expected to return an INTEGER.\n",
    "# The function accepts STRING s as parameter.\n",
    "#\n",
    "def camelcase(s):\n",
    "    # Write your code here\n",
    "    cap_alp = \"QWERTYUIOPLKJHGFDSAZXCVBNM\"\n",
    "    cap_lett = 0\n",
    "    for count in s:\n",
    "        if count in cap_alp:\n",
    "            cap_lett += 1\n",
    "    \n",
    "    return cap_lett + 1\n",
    "\n",
    "if __name__ == '__main__':\n",
    "    fptr = open(os.environ['OUTPUT_PATH'], 'w')\n",
    "    s = input()\n",
    "    result = camelcase(s)\n",
    "    fptr.write(str(result) + '\\n')\n",
    "    fptr.close()\n"
   ]
  },
  {
   "cell_type": "markdown",
   "id": "c95bcd8a",
   "metadata": {},
   "source": [
    "# Strong Password"
   ]
  },
  {
   "cell_type": "code",
   "execution_count": null,
   "id": "525bf0fd",
   "metadata": {},
   "outputs": [],
   "source": [
    "#!/bin/python3\n",
    "import math\n",
    "import os\n",
    "import random\n",
    "import re\n",
    "import sys\n",
    "#\n",
    "# Complete the 'minimumNumber' function below.\n",
    "#\n",
    "# The function is expected to return an INTEGER.\n",
    "# The function accepts following parameters:\n",
    "#  1. INTEGER n\n",
    "#  2. STRING password\n",
    "#\n",
    "def minimumNumber(n, password):\n",
    "    \n",
    "    numbers = \"0123456789\"\n",
    "    num_precence = False\n",
    "    lower_case = \"abcdefghijklmnopqrstuvwxyz\"\n",
    "    low_precence = False\n",
    "    upper_case = \"ABCDEFGHIJKLMNOPQRSTUVWXYZ\"\n",
    "    up_precence = False\n",
    "    special_characters = \"!@#$%^&*()-+\"\n",
    "    spc_precence = False\n",
    "    for count in range(n) :\n",
    "        if not num_precence and password[count] in numbers :\n",
    "            num_precence = True\n",
    "        elif not low_precence and password[count] in lower_case :\n",
    "            low_precence = True\n",
    "        elif not up_precence and password[count] in upper_case :\n",
    "            up_precence = True\n",
    "        elif not spc_precence and password[count] in special_characters :\n",
    "            spc_precence = True\n",
    "    result  = (num_precence, low_precence, up_precence, spc_precence)\n",
    "    if result.count(False)< 6-n :\n",
    "       return 6-n\n",
    "    \n",
    "    return result.count(False)    \n",
    "if __name__ == '__main__':\n",
    "    fptr = open(os.environ['OUTPUT_PATH'], 'w')\n",
    "    n = int(input().strip())\n",
    "    password = input()\n",
    "    answer = minimumNumber(n, password)\n",
    "    fptr.write(str(answer) + '\\n')\n",
    "    fptr.close()\n"
   ]
  },
  {
   "cell_type": "markdown",
   "id": "a090e5d8",
   "metadata": {},
   "source": [
    "# Mars Exploration"
   ]
  },
  {
   "cell_type": "code",
   "execution_count": null,
   "id": "e573a6ed",
   "metadata": {},
   "outputs": [],
   "source": [
    "#!/bin/python3\n",
    "import math\n",
    "import os\n",
    "import random\n",
    "import re\n",
    "import sys\n",
    "#\n",
    "# Complete the 'marsExploration' function below.\n",
    "#\n",
    "# The function is expected to return an INTEGER.\n",
    "# The function accepts STRING s as parameter.\n",
    "#\n",
    "def marsExploration(s):\n",
    "    num_errors = 0\n",
    "    for count in range(3,len(s)+3,3):\n",
    "        sos = list(s[count - 3:count])\n",
    "        if sos[0] != \"S\":\n",
    "            num_errors += 1\n",
    "        if sos[1] != \"O\":\n",
    "            num_errors += 1\n",
    "        if sos[2] != \"S\":\n",
    "            num_errors += 1\n",
    "    \n",
    "    return num_errors\n",
    "if __name__ == '__main__':\n",
    "    fptr = open(os.environ['OUTPUT_PATH'], 'w')\n",
    "    s = input()\n",
    "    result = marsExploration(s)\n",
    "    fptr.write(str(result) + '\\n')\n",
    "    fptr.close()\n"
   ]
  },
  {
   "cell_type": "markdown",
   "id": "fe481621",
   "metadata": {},
   "source": [
    "# Pangrams"
   ]
  },
  {
   "cell_type": "code",
   "execution_count": null,
   "id": "69a8bb44",
   "metadata": {},
   "outputs": [],
   "source": [
    "#!/bin/python3\n",
    "import math\n",
    "import os\n",
    "import random\n",
    "import re\n",
    "import sys\n",
    "#\n",
    "# Complete the 'pangrams' function below.\n",
    "#\n",
    "# The function is expected to return a STRING.\n",
    "# The function accepts STRING s as parameter.\n",
    "#\n",
    "def pangrams(s):\n",
    "    lower_string = s.lower()\n",
    "    alph = \"qwertyuioplkjhgfdsazxcvbnm\"\n",
    "    for letter in alph:\n",
    "        if letter not in lower_string :\n",
    "            return \"not pangram\"\n",
    "    return \"pangram\"\n",
    "if __name__ == '__main__':\n",
    "    fptr = open(os.environ['OUTPUT_PATH'], 'w')\n",
    "    s = input()\n",
    "    result = pangrams(s)\n",
    "    fptr.write(result + '\\n')\n",
    "    fptr.close()\n"
   ]
  },
  {
   "cell_type": "markdown",
   "id": "0416e917",
   "metadata": {},
   "source": [
    "# Caesar Cipher"
   ]
  },
  {
   "cell_type": "code",
   "execution_count": null,
   "id": "d5eec0b5",
   "metadata": {},
   "outputs": [],
   "source": [
    "#!/bin/python3\n",
    "import math\n",
    "import os\n",
    "import random\n",
    "import re\n",
    "import sys\n",
    "#\n",
    "# Complete the 'caesarCipher' function below.\n",
    "#\n",
    "# The function is expected to return a STRING.\n",
    "# The function accepts following parameters:\n",
    "#  1. STRING s\n",
    "#  2. INTEGER k\n",
    "#\n",
    "def caesarCipher(s, k):\n",
    "    new_str = \"\"\n",
    "    alph = \"abcdefghijklmnopqrstuvwxyz\"\n",
    "    cap_alph = alph.upper()\n",
    "    for character in s :\n",
    "        if character in alph :\n",
    "            place = alph.index(character)\n",
    "            while place+k >= 26 :\n",
    "                place -=  26\n",
    "            new_str = new_str + alph[place+k]\n",
    "        elif character in cap_alph :\n",
    "            place = cap_alph.index(character)\n",
    "            while place+k >= 26 :\n",
    "                place -=  26\n",
    "            new_str = new_str + cap_alph[place+k]\n",
    "        else :\n",
    "            new_str = new_str + character\n",
    "    \n",
    "    return new_str\n",
    "if __name__ == '__main__':\n",
    "    fptr = open(os.environ['OUTPUT_PATH'], 'w')\n",
    "    n = int(input().strip())\n",
    "    s = input()\n",
    "    k = int(input().strip())\n",
    "    result = caesarCipher(s, k)\n",
    "    fptr.write(result + '\\n')\n",
    "    fptr.close()\n"
   ]
  },
  {
   "cell_type": "markdown",
   "id": "81dd28b8",
   "metadata": {},
   "source": [
    "# Insertion Sort - Part 1"
   ]
  },
  {
   "cell_type": "code",
   "execution_count": null,
   "id": "0ba89bab",
   "metadata": {},
   "outputs": [],
   "source": [
    "#!/bin/python3\n",
    "import math\n",
    "import os\n",
    "import random\n",
    "import re\n",
    "import sys\n",
    "#\n",
    "# Complete the 'insertionSort1' function below.\n",
    "#\n",
    "# The function accepts following parameters:\n",
    "#  1. INTEGER n\n",
    "#  2. INTEGER_ARRAY arr\n",
    "#\n",
    "def insertionSort1(n, arr):\n",
    "    n -= 1\n",
    "    tmp = arr[n]\n",
    "#---------------------------#n start from 1 so -1 to fix it for list index and saving the first \n",
    "    while n > 0:\n",
    "        if arr[n-1] > tmp:\n",
    "#---------------------------# if the number before is bigger than the one being examined i move the number up 1 index\n",
    "            arr[n] = arr[n-1]\n",
    "            print(\" \".join(map(str, arr)))\n",
    "        elif arr[n-1] < tmp:\n",
    "#---------------------------#if the number is smaller i change number beeing eximined \n",
    "            arr[n] = tmp\n",
    "            print(\" \".join(map(str, arr)))\n",
    "            break\n",
    "        n -= 1\n",
    "    if arr[0] == arr[1]:\n",
    "        arr[0] = tmp\n",
    "        print(\" \".join(map(str, arr)))\n",
    "if __name__ == '__main__':\n",
    "    n = int(input().strip())\n",
    "    arr = list(map(int, input().rstrip().split()))\n",
    "    insertionSort1(n, arr)\n"
   ]
  },
  {
   "cell_type": "markdown",
   "id": "844a5131",
   "metadata": {},
   "source": [
    "# Quicksort 1 - Partition"
   ]
  },
  {
   "cell_type": "code",
   "execution_count": null,
   "id": "e59381f8",
   "metadata": {},
   "outputs": [],
   "source": [
    "#!/bin/python3\n",
    "import math\n",
    "import os\n",
    "import random\n",
    "import re\n",
    "import sys\n",
    "#\n",
    "# Complete the 'quickSort' function below.\n",
    "#\n",
    "# The function is expected to return an INTEGER_ARRAY.\n",
    "# The function accepts INTEGER_ARRAY arr as parameter.\n",
    "#\n",
    "def quickSort(arr):\n",
    "    equal = []\n",
    "    right = []\n",
    "    left = []\n",
    "    for value in arr :\n",
    "        if value < arr[0] : left.append(value)\n",
    "        elif value > arr[0] : right.append(value)\n",
    "        else : equal.append(value)\n",
    "    left.extend(equal)\n",
    "    left.extend(right)\n",
    "    return left\n",
    "    \n",
    "if __name__ == '__main__':\n",
    "    fptr = open(os.environ['OUTPUT_PATH'], 'w')\n",
    "    n = int(input().strip())\n",
    "    arr = list(map(int, input().rstrip().split()))\n",
    "    result = quickSort(arr)\n",
    "    fptr.write(' '.join(map(str, result)))\n",
    "    fptr.write('\\n')\n",
    "    fptr.close()\n"
   ]
  },
  {
   "cell_type": "markdown",
   "id": "129c0c89",
   "metadata": {},
   "source": [
    "# Find the Median"
   ]
  },
  {
   "cell_type": "code",
   "execution_count": null,
   "id": "fd709a73",
   "metadata": {},
   "outputs": [],
   "source": [
    "#!/bin/python3\n",
    "import math\n",
    "import os\n",
    "import random\n",
    "import re\n",
    "import sys\n",
    "#\n",
    "# Complete the 'findMedian' function below.\n",
    "#\n",
    "# The function is expected to return an INTEGER.\n",
    "# The function accepts INTEGER_ARRAY arr as parameter.\n",
    "#\n",
    "def merge(my_left, my_right):\n",
    "    result = []\n",
    "    pos_left = 0\n",
    "    pos_right = 0\n",
    "    \n",
    "    while pos_left < len(my_left) and pos_right < len(my_right):\n",
    "        if my_left[pos_left] < my_right[pos_right]:\n",
    "            result.append(my_left[pos_left])\n",
    "            pos_left += 1\n",
    "        else:\n",
    "            result.append(my_right[pos_right])\n",
    "            pos_right += 1\n",
    "            \n",
    "    while pos_left < len(my_left):\n",
    "        result.append(my_left[pos_left])\n",
    "        pos_left += 1\n",
    "    \n",
    "    while pos_right < len(my_right):\n",
    "        result.append(my_right[pos_right])\n",
    "        pos_right += 1\n",
    "        \n",
    "    return result\n",
    "def merge_sort(lst):\n",
    "    if len(lst) == 1:\n",
    "        return lst\n",
    "    \n",
    "    left = lst[0:len(lst)//2]\n",
    "    right = lst[len(lst)//2:]\n",
    "    \n",
    "    left = merge_sort(left)\n",
    "    right = merge_sort(right)\n",
    "    \n",
    "    return merge(left, right)\n",
    "    \n",
    "def findMedian(arr):\n",
    "    n = len(arr)\n",
    "    median = int(((len(arr)+1)/2)-1)\n",
    "    arr = merge_sort(arr)\n",
    "    return arr[median]\n",
    "   \n",
    "if __name__ == '__main__':\n",
    "    fptr = open(os.environ['OUTPUT_PATH'], 'w')\n",
    "    n = int(input().strip())\n",
    "    arr = list(map(int, input().rstrip().split()))\n",
    "    result = findMedian(arr)\n",
    "    fptr.write(str(result) + '\\n')\n",
    "    fptr.close()\n"
   ]
  },
  {
   "cell_type": "markdown",
   "id": "762a4274",
   "metadata": {},
   "source": [
    "# Intro to Tutorial Challenges"
   ]
  },
  {
   "cell_type": "code",
   "execution_count": null,
   "id": "3725ba81",
   "metadata": {},
   "outputs": [],
   "source": [
    "#!/bin/python3\n",
    "import math\n",
    "import os\n",
    "import random\n",
    "import re\n",
    "import sys\n",
    "#\n",
    "# Complete the 'introTutorial' function below.\n",
    "#\n",
    "# The function is expected to return an INTEGER.\n",
    "# The function accepts following parameters:\n",
    "#  1. INTEGER V\n",
    "#  2. INTEGER_ARRAY arr\n",
    "#\n",
    "def introTutorial(V, arr):\n",
    "    return arr.index(V)\n",
    "if __name__ == '__main__':\n",
    "    fptr = open(os.environ['OUTPUT_PATH'], 'w')\n",
    "    V = int(input().strip())\n",
    "    n = int(input().strip())\n",
    "    arr = list(map(int, input().rstrip().split()))\n",
    "    result = introTutorial(V, arr)\n",
    "    fptr.write(str(result) + '\\n')\n",
    "    fptr.close()\n"
   ]
  },
  {
   "cell_type": "markdown",
   "id": "91c61e5e",
   "metadata": {},
   "source": [
    "# Insertion Sort - Part 2"
   ]
  },
  {
   "cell_type": "code",
   "execution_count": null,
   "id": "1be65270",
   "metadata": {},
   "outputs": [],
   "source": [
    "#!/bin/python3\n",
    "import math\n",
    "import os\n",
    "import random\n",
    "import re\n",
    "import sys\n",
    "#\n",
    "# Complete the 'insertionSort2' function below.\n",
    "#\n",
    "# The function accepts following parameters:\n",
    "#  1. INTEGER n\n",
    "#  2. INTEGER_ARRAY arr\n",
    "#\n",
    "def insertionSort2(n, arr):\n",
    "    for count1 in range (1,n):\n",
    "        position = 0\n",
    "        change = False\n",
    "        #print (\"-1-this is the cicle number : \", count1)\n",
    "        for count2 in range (count1-1,-1,-1):\n",
    "            #print (\"##this is the count for cecking : \", count2)\n",
    "            if arr[count1] < arr[count2]:\n",
    "                position = count2\n",
    "                change = True\n",
    "        if change :\n",
    "            tmp_inset = arr.pop(count1)\n",
    "            arr.insert(position,tmp_inset)\n",
    "        print(\" \".join(map(str, arr)))\n",
    "                \n",
    "                \n",
    "            \n",
    "            \n",
    "        \n",
    "if __name__ == '__main__':\n",
    "    n = int(input().strip())\n",
    "    arr = list(map(int, input().rstrip().split()))\n",
    "    insertionSort2(n, arr)\n"
   ]
  },
  {
   "cell_type": "markdown",
   "id": "c5920749",
   "metadata": {},
   "source": [
    "# Running Time of Algorithms"
   ]
  },
  {
   "cell_type": "code",
   "execution_count": null,
   "id": "b4aea3b3",
   "metadata": {},
   "outputs": [],
   "source": [
    "#!/bin/python3\n",
    "import math\n",
    "import os\n",
    "import random\n",
    "import re\n",
    "import sys\n",
    "#\n",
    "# Complete the 'runningTime' function below.\n",
    "#\n",
    "# The function is expected to return an INTEGER.\n",
    "# The function accepts INTEGER_ARRAY arr as parameter.\n",
    "#\n",
    "def runningTime(arr):\n",
    "    n = len(arr)\n",
    "    swaps = 0\n",
    "    for count1 in range (1,n):\n",
    "        position = 0\n",
    "        change = False\n",
    "        #print (\"-1-this is the cicle number : \", count1)\n",
    "        for count2 in range (count1-1,-1,-1):\n",
    "            #print (\"##this is the count for cecking : \", count2)\n",
    "            if arr[count1] < arr[count2]:\n",
    "                position = count2\n",
    "                change = True\n",
    "        if change :\n",
    "            tmp_inset = arr.pop(count1)\n",
    "            arr.insert(position,tmp_inset)\n",
    "            swaps += count1-position\n",
    "    return swaps\n",
    "if __name__ == '__main__':\n",
    "    fptr = open(os.environ['OUTPUT_PATH'], 'w')\n",
    "    n = int(input().strip())\n",
    "    arr = list(map(int, input().rstrip().split()))\n",
    "    result = runningTime(arr)\n",
    "    fptr.write(str(result) + '\\n')\n",
    "    fptr.close()\n"
   ]
  },
  {
   "cell_type": "markdown",
   "id": "57a653ce",
   "metadata": {},
   "source": [
    "# Closest Numbers"
   ]
  },
  {
   "cell_type": "code",
   "execution_count": null,
   "id": "06bf6a21",
   "metadata": {},
   "outputs": [],
   "source": [
    "#!/bin/python3\n",
    "import math\n",
    "import os\n",
    "import random\n",
    "import re\n",
    "import sys\n",
    "#\n",
    "# Complete the 'closestNumbers' function below.\n",
    "#\n",
    "# The function is expected to return an INTEGER_ARRAY.\n",
    "# The function accepts INTEGER_ARRAY arr as parameter.\n",
    "#\n",
    "#THIS IS THE MERGE SORT FROM SLACK\n",
    "def merge(my_left, my_right):\n",
    "    result = []\n",
    "    pos_left = 0\n",
    "    pos_right = 0\n",
    "    \n",
    "    while pos_left < len(my_left) and pos_right < len(my_right):\n",
    "        if my_left[pos_left] < my_right[pos_right]:\n",
    "            result.append(my_left[pos_left])\n",
    "            pos_left += 1\n",
    "        else:\n",
    "            result.append(my_right[pos_right])\n",
    "            pos_right += 1\n",
    "            \n",
    "    while pos_left < len(my_left):\n",
    "        result.append(my_left[pos_left])\n",
    "        pos_left += 1\n",
    "    \n",
    "    while pos_right < len(my_right):\n",
    "        result.append(my_right[pos_right])\n",
    "        pos_right += 1\n",
    "        \n",
    "    return result\n",
    "def merge_sort(lst):\n",
    "    if len(lst) == 1:\n",
    "        return lst\n",
    "    \n",
    "    left = lst[0:len(lst)//2]\n",
    "    right = lst[len(lst)//2:]\n",
    "    \n",
    "    left = merge_sort(left)\n",
    "    right = merge_sort(right)\n",
    "    \n",
    "    return merge(left, right)\n",
    "def closestNumbers(arr):\n",
    "    arr = merge_sort(arr)\n",
    "    difference = 9999\n",
    "    lowst_diff_numb = []\n",
    "    for count1 in range (len(arr)-1):\n",
    "        n_c1 = arr[count1]\n",
    "        c_c2 = arr[count1+1]\n",
    "        if abs(n_c1 - c_c2) < difference:\n",
    "            lowst_diff_numb.clear()\n",
    "            lowst_diff_numb.append(n_c1)\n",
    "            lowst_diff_numb.append(c_c2)\n",
    "            difference = abs(n_c1-c_c2)\n",
    "        \n",
    "        elif abs(n_c1 - c_c2) == difference:\n",
    "            lowst_diff_numb.append(n_c1)\n",
    "            lowst_diff_numb.append(c_c2)\n",
    "            \n",
    "    return lowst_diff_numb\n",
    "if __name__ == '__main__':\n",
    "    fptr = open(os.environ['OUTPUT_PATH'], 'w')\n",
    "    n = int(input().strip())\n",
    "    arr = list(map(int, input().rstrip().split()))\n",
    "    result = closestNumbers(arr)\n",
    "    fptr.write(' '.join(map(str, result)))\n",
    "    fptr.write('\\n')\n",
    "    fptr.close()\n"
   ]
  },
  {
   "cell_type": "markdown",
   "id": "2e08be84",
   "metadata": {},
   "source": [
    "# Counting Sort 1"
   ]
  },
  {
   "cell_type": "code",
   "execution_count": null,
   "id": "4f66f5c3",
   "metadata": {},
   "outputs": [],
   "source": [
    "#!/bin/python3\n",
    "import math\n",
    "import os\n",
    "import random\n",
    "import re\n",
    "import sys\n",
    "#\n",
    "# Complete the 'countingSort' function below.\n",
    "#\n",
    "# The function is expected to return an INTEGER_ARRAY.\n",
    "# The function accepts INTEGER_ARRAY arr as parameter.\n",
    "#\n",
    "def countingSort(arr):\n",
    "    lis = [0] * 100\n",
    "    for value in arr:\n",
    "        print(\"the value is :\", value, \"|--|\", \"the max index is :\", (len(lis)))\n",
    "        lis[value] += 1\n",
    "    return lis\n",
    "            \n",
    "if __name__ == '__main__':\n",
    "    fptr = open(os.environ['OUTPUT_PATH'], 'w')\n",
    "    n = int(input().strip())\n",
    "    arr = list(map(int, input().rstrip().split()))\n",
    "    result = countingSort(arr)\n",
    "    fptr.write(' '.join(map(str, result)))\n",
    "    fptr.write('\\n')\n",
    "    fptr.close()\n"
   ]
  },
  {
   "cell_type": "markdown",
   "id": "c9471189",
   "metadata": {},
   "source": [
    "# Counting Sort 2"
   ]
  },
  {
   "cell_type": "code",
   "execution_count": null,
   "id": "88e6720d",
   "metadata": {},
   "outputs": [],
   "source": [
    "#!/bin/python3\n",
    "import math\n",
    "import os\n",
    "import random\n",
    "import re\n",
    "import sys\n",
    "#\n",
    "# Complete the 'countingSort' function below.\n",
    "#\n",
    "# The function is expected to return an INTEGER_ARRAY.\n",
    "# The function accepts INTEGER_ARRAY arr as parameter.\n",
    "#\n",
    "def countingSort_list(arr):\n",
    "    lis = [0] * 100\n",
    "    for value in arr:\n",
    "        lis[value] += 1\n",
    "    return lis\n",
    "    \n",
    "def countingSort(arr):\n",
    "    \n",
    "    counted_arr = countingSort_list(arr)\n",
    "    sorted_lis = []\n",
    "    index_counter = 0\n",
    "    \n",
    "    for counter in counted_arr:\n",
    "        \n",
    "        for times in range(counter):\n",
    "            \n",
    "            sorted_lis.append(index_counter)\n",
    "        \n",
    "        index_counter += 1\n",
    "    \n",
    "    return sorted_lis\n",
    "if __name__ == '__main__':\n",
    "    fptr = open(os.environ['OUTPUT_PATH'], 'w')\n",
    "    n = int(input().strip())\n",
    "    arr = list(map(int, input().rstrip().split()))\n",
    "    result = countingSort(arr)\n",
    "    fptr.write(' '.join(map(str, result)))\n",
    "    fptr.write('\\n')\n",
    "    fptr.close()\n"
   ]
  },
  {
   "cell_type": "markdown",
   "id": "7fd8a6a3",
   "metadata": {},
   "source": [
    "# Correctness and the Loop Invariant"
   ]
  },
  {
   "cell_type": "code",
   "execution_count": null,
   "id": "0e4e790e",
   "metadata": {},
   "outputs": [],
   "source": [
    "\n",
    "def insertion_sort(l):\n",
    "    for i in range(1, len(l)):\n",
    "        j = i-1\n",
    "        key = l[i]\n",
    "        while (j >= 0) and (l[j] > key):\n",
    "#the mistake is that j needs to be equal to 0 to swap in case the number is in the first position\n",
    "           l[j+1] = l[j]\n",
    "           j -= 1\n",
    "        l[j+1] = key\n",
    "m = int(input().strip())\n",
    "ar = [int(i) for i in input().strip().split()]\n",
    "insertion_sort(ar)\n",
    "print(\" \".join(map(str,ar)))\n"
   ]
  },
  {
   "cell_type": "markdown",
   "id": "afb60b47",
   "metadata": {},
   "source": [
    "# Say \"Hello, World!\" With Python"
   ]
  },
  {
   "cell_type": "code",
   "execution_count": null,
   "id": "49ae8c4c",
   "metadata": {},
   "outputs": [],
   "source": [
    "if __name__ == '__main__':\n",
    "    print(\"Hello, World!\")\n"
   ]
  },
  {
   "cell_type": "markdown",
   "id": "4a89be02",
   "metadata": {},
   "source": [
    "# Python If-Else"
   ]
  },
  {
   "cell_type": "code",
   "execution_count": null,
   "id": "8db663ec",
   "metadata": {},
   "outputs": [],
   "source": [
    "#!/bin/python3\n",
    "import math\n",
    "import os\n",
    "import random\n",
    "import re\n",
    "import sys\n",
    "\n",
    "if __name__ == '__main__':\n",
    "    n = int(input().strip())\n",
    "    if (n%2 == 0) :\n",
    "        if (n <= 20 and n >= 6):\n",
    "            print ('Weird')\n",
    "        else : print('Not Weird')\n",
    "    else :\n",
    "        print('Weird')\n"
   ]
  },
  {
   "cell_type": "markdown",
   "id": "a58be0e4",
   "metadata": {},
   "source": [
    "# Arithmetic Operators"
   ]
  },
  {
   "cell_type": "code",
   "execution_count": null,
   "id": "ead14d20",
   "metadata": {},
   "outputs": [],
   "source": [
    "if __name__ == '__main__':\n",
    "    a = int(input())\n",
    "    b = int(input())\n",
    "    print(a+b)\n",
    "    print(a-b)\n",
    "    print(a*b)\n"
   ]
  },
  {
   "cell_type": "markdown",
   "id": "cb5e35e4",
   "metadata": {},
   "source": [
    "# Python: Division"
   ]
  },
  {
   "cell_type": "code",
   "execution_count": null,
   "id": "44add544",
   "metadata": {},
   "outputs": [],
   "source": [
    "if __name__ == '__main__':\n",
    "    a = int(input())\n",
    "    b = int(input())\n",
    "    print(a//b)\n",
    "    print(a/b)\n"
   ]
  },
  {
   "cell_type": "markdown",
   "id": "a32991d1",
   "metadata": {},
   "source": [
    "# Loops"
   ]
  },
  {
   "cell_type": "code",
   "execution_count": null,
   "id": "6ff98ded",
   "metadata": {},
   "outputs": [],
   "source": [
    "if __name__ == '__main__':\n",
    "    n = int(input())\n",
    "    for i in range(0,n):\n",
    "        print(i**2)\n",
    "        \n"
   ]
  },
  {
   "cell_type": "markdown",
   "id": "6242a71f",
   "metadata": {},
   "source": [
    "# Write a function"
   ]
  },
  {
   "cell_type": "code",
   "execution_count": null,
   "id": "04410136",
   "metadata": {},
   "outputs": [],
   "source": [
    "def is_leap(year):\n",
    "    \n",
    "    if year % 4 != 0 : return False\n",
    "    if year % 100 == 0 :\n",
    "        if year % 400 == 0 : return True\n",
    "        return False\n",
    "    \n",
    "    return True\n",
    "    \n"
   ]
  },
  {
   "cell_type": "markdown",
   "id": "def776ba",
   "metadata": {},
   "source": [
    "# Print Function"
   ]
  },
  {
   "cell_type": "code",
   "execution_count": null,
   "id": "ce752c12",
   "metadata": {},
   "outputs": [],
   "source": [
    "if __name__ == '__main__':\n",
    "    n = int(input())\n",
    "    for i in range(1,n+1):\n",
    "        print(i, sep='', end='')\n"
   ]
  },
  {
   "cell_type": "markdown",
   "id": "00686580",
   "metadata": {},
   "source": [
    "# Tuples"
   ]
  },
  {
   "cell_type": "code",
   "execution_count": null,
   "id": "d3fa045a",
   "metadata": {},
   "outputs": [],
   "source": [
    "if __name__ == '__main__':\n",
    "    n = int(input())\n",
    "    integer_list = map(int, input().split())\n",
    "    tup = tuple(integer_list)\n",
    "    print(hash(tup))\n"
   ]
  },
  {
   "cell_type": "markdown",
   "id": "9242a454",
   "metadata": {},
   "source": [
    "# String Split and Join"
   ]
  },
  {
   "cell_type": "code",
   "execution_count": null,
   "id": "442a05ca",
   "metadata": {},
   "outputs": [],
   "source": [
    "def split_and_join(line):\n",
    "    # write your code here\n",
    "    return line.replace(' ', '-')\n"
   ]
  },
  {
   "cell_type": "markdown",
   "id": "549cbc20",
   "metadata": {},
   "source": [
    "# Find a string"
   ]
  },
  {
   "cell_type": "code",
   "execution_count": null,
   "id": "6744bf51",
   "metadata": {},
   "outputs": [],
   "source": [
    "def count_substring(string, sub_string):\n",
    "    counter = 0\n",
    "    for i in range(0, (len(string)- len(sub_string)+1)):\n",
    "        top_bound = i + len(sub_string)\n",
    "        exam = string[i: top_bound]\n",
    "        #print(exam)\n",
    "        if sub_string == exam:\n",
    "            counter += 1\n",
    "        \n",
    "    return counter\n"
   ]
  },
  {
   "cell_type": "markdown",
   "id": "289cd094",
   "metadata": {},
   "source": [
    "# String Validators"
   ]
  },
  {
   "cell_type": "code",
   "execution_count": null,
   "id": "1da4d5bb",
   "metadata": {},
   "outputs": [],
   "source": [
    "if __name__ == '__main__':\n",
    "    s = input()\n",
    "    print(any(char.isalnum() for char in s))\n",
    "    print(any(char.isalpha() for char in s))\n",
    "    print(any(char.isdigit() for char in s))\n",
    "    print(any(char.islower() for char in s))\n",
    "    print(any(char.isupper() for char in s))\n"
   ]
  },
  {
   "cell_type": "markdown",
   "id": "4ce04d49",
   "metadata": {},
   "source": [
    "# Text Alignment"
   ]
  },
  {
   "cell_type": "code",
   "execution_count": null,
   "id": "db7a99ea",
   "metadata": {},
   "outputs": [],
   "source": [
    "#Replace all ______ with rjust, ljust or center. \n",
    "thickness = int(input()) #This must be an odd number\n",
    "c = 'H'\n",
    "#Top Cone\n",
    "for i in range(thickness):\n",
    "    print((c*i).rjust(thickness-1)+c+(c*i).ljust(thickness-1))\n",
    "#Top Pillars\n",
    "for i in range(thickness+1):\n",
    "    print((c*thickness).center(thickness*2)+(c*thickness).center(thickness*6))\n",
    "#Middle Belt\n",
    "for i in range((thickness+1)//2):\n",
    "    print((c*thickness*5).center(thickness*6))    \n",
    "#Bottom Pillars\n",
    "for i in range(thickness+1):\n",
    "    print((c*thickness).center(thickness*2)+(c*thickness).center(thickness*6))    \n",
    "#Bottom Cone\n",
    "for i in range(thickness):\n",
    "    print(((c*(thickness-i-1)).rjust(thickness)+c+(c*(thickness-i-1)).ljust(thickness)).rjust(thickness*6))\n"
   ]
  },
  {
   "cell_type": "markdown",
   "id": "7e8e67e9",
   "metadata": {},
   "source": [
    "# String Formatting"
   ]
  },
  {
   "cell_type": "code",
   "execution_count": null,
   "id": "50fde544",
   "metadata": {},
   "outputs": [],
   "source": [
    "def print_formatted(number):\n",
    "    # your code goes here\n",
    "    wdt = len(bin(number)[2:])\n",
    "    for i in range(1, number+1):\n",
    "        otto, sedici, bipbup = oct(i)[2:], hex(i)[2:].upper(), bin(i)[2:]\n",
    "        print('{0:>{wdt}} {1:>{wdt}} {2:>{wdt}} {3:>{wdt}}'.format(i, otto, sedici, bipbup, wdt = wdt) )\n"
   ]
  },
  {
   "cell_type": "markdown",
   "id": "ef77306a",
   "metadata": {},
   "source": [
    "# Introduction to Sets"
   ]
  },
  {
   "cell_type": "code",
   "execution_count": null,
   "id": "184d24b6",
   "metadata": {},
   "outputs": [],
   "source": [
    "def average(array):\n",
    "    # your code goes here\n",
    "    \n",
    "    array = set(array)\n",
    "    \n",
    "    return round((sum(array)/len(array)), 3)\n"
   ]
  },
  {
   "cell_type": "markdown",
   "id": "ca8f4a26",
   "metadata": {},
   "source": [
    "# Symmetric Difference"
   ]
  },
  {
   "cell_type": "code",
   "execution_count": null,
   "id": "2c6007b9",
   "metadata": {},
   "outputs": [],
   "source": [
    "# Enter your code here. Read input from STDIN. Print output to STDOUT\n",
    "trash, set_1, trashh, set_2 = input(), input(), input(), input()\n",
    "set_1 = set(map(int, set_1.split(\" \")))\n",
    "set_2 = set(map(int, set_2.split(\" \")))\n",
    "common = sorted(set(set_1).symmetric_difference(set(set_2)))\n",
    "for i in common:\n",
    "    print(i)\n"
   ]
  },
  {
   "cell_type": "markdown",
   "id": "d5e3805e",
   "metadata": {},
   "source": [
    "# Set .discard(), .remove() & .pop()"
   ]
  },
  {
   "cell_type": "code",
   "execution_count": null,
   "id": "63bd0879",
   "metadata": {},
   "outputs": [],
   "source": [
    "n = int(input())\n",
    "s = set(map(int, input().split()))\n",
    "iter_num = int(input())\n",
    "for _ in range(0, iter_num):\n",
    "    comand = input()\n",
    "    if \" \" in comand:\n",
    "        if \"m\" in comand:\n",
    "            s.remove(int(comand[-1]))\n",
    "        else:\n",
    "            s.discard(int(comand[-1]))\n",
    "    else:\n",
    "        s.pop()\n",
    "        \n",
    "print(sum(s))\n"
   ]
  },
  {
   "cell_type": "markdown",
   "id": "c190e1a3",
   "metadata": {},
   "source": [
    "# Set .intersection() Operation"
   ]
  },
  {
   "cell_type": "code",
   "execution_count": null,
   "id": "5b74fc70",
   "metadata": {},
   "outputs": [],
   "source": [
    "# Enter your code here. Read input from STDIN. Print output to STDOUT\n",
    "trash_1, eng_news, trash_2, fren_news = input(), input().split(), input(), input().split()\n",
    "eng_news = set(map(int, eng_news))\n",
    "fren_news = set(map(int, fren_news))\n",
    "print(len(eng_news.intersection(fren_news)))\n"
   ]
  },
  {
   "cell_type": "markdown",
   "id": "898d608f",
   "metadata": {},
   "source": [
    "# Set .difference() Operation"
   ]
  },
  {
   "cell_type": "code",
   "execution_count": null,
   "id": "79f9f323",
   "metadata": {},
   "outputs": [],
   "source": [
    "# Enter your code here. Read input from STDIN. Print output to STDOUT\n",
    "trash_1, eng_news, trash_2, fren_news = input(), input().split(), input(), input().split()\n",
    "eng_news = set(map(int, eng_news))\n",
    "fren_news = set(map(int, fren_news))\n",
    "print(len(eng_news.difference(fren_news)))\n"
   ]
  },
  {
   "cell_type": "markdown",
   "id": "47124f32",
   "metadata": {},
   "source": [
    "# Set .symmetric_difference() Operation"
   ]
  },
  {
   "cell_type": "code",
   "execution_count": null,
   "id": "2135a2d7",
   "metadata": {},
   "outputs": [],
   "source": [
    "# Enter your code here. Read input from STDIN. Print output to STDOUT\n",
    "trash_1, eng_news, trash_2, fren_news = input(), input().split(), input(), input().split()\n",
    "eng_news = set(map(int, eng_news))\n",
    "fren_news = set(map(int, fren_news))\n",
    "print(len(eng_news.symmetric_difference(fren_news)))\n"
   ]
  },
  {
   "cell_type": "markdown",
   "id": "1211dfc3",
   "metadata": {},
   "source": [
    "# Set Mutations"
   ]
  },
  {
   "cell_type": "code",
   "execution_count": null,
   "id": "10fd2afb",
   "metadata": {},
   "outputs": [],
   "source": [
    "# Enter your code here. Read input from STDIN. Print output to STDOUT\n",
    "trash, work, iterable = input(), input().split(), int(input())\n",
    "work = set(map(int, work))\n",
    "while iterable > 0:\n",
    "    job, job_set = input(), set(map(int, input().split()))\n",
    "    if \"in\" in job:\n",
    "        work.intersection_update(job_set)\n",
    "    elif \"sy\" in job:\n",
    "        work.symmetric_difference_update(job_set)\n",
    "    elif \"ere\" in job:\n",
    "        work.difference_update(job_set)\n",
    "    else:\n",
    "        work.update(job_set)\n",
    "    \n",
    "    iterable -= 1\n",
    "print(sum(work))\n"
   ]
  },
  {
   "cell_type": "markdown",
   "id": "e1161d1d",
   "metadata": {},
   "source": [
    "# Check Subset"
   ]
  },
  {
   "cell_type": "code",
   "execution_count": null,
   "id": "a5660c12",
   "metadata": {},
   "outputs": [],
   "source": [
    "# Enter your code here. Read input from STDIN. Print output to STDOUT\n",
    "iterable = int(input())\n",
    "while iterable > 0:\n",
    "    trash_1, set_1, trash_2, set_2 = input(), input().split(), input(), input().split()\n",
    "    set_1 = set(map(int, set_1))\n",
    "    set_2 = set(map(int, set_2))\n",
    "    if len(set_1.difference(set_2)) != 0:\n",
    "        print(False)\n",
    "    else:\n",
    "        print(True)\n",
    "    iterable -= 1\n"
   ]
  },
  {
   "cell_type": "markdown",
   "id": "4948b869",
   "metadata": {},
   "source": [
    "# Check Strict Superset"
   ]
  },
  {
   "cell_type": "code",
   "execution_count": null,
   "id": "a54958f3",
   "metadata": {},
   "outputs": [],
   "source": [
    "# Enter your code here. Read input from STDIN. Print output to STDOUT\n",
    "super_set = set(map(int, input().split()))\n",
    "iterable = int(input())\n",
    "supa_cool = True\n",
    "while iterable > 0:\n",
    "    qui = set(map(int, input().split()))\n",
    "    if len(qui) >= len(super_set):\n",
    "        supa_cool = False\n",
    "        break\n",
    "    elif len(qui.difference(super_set)) != 0:\n",
    "        supa_cool = False\n",
    "        break\n",
    "    iterable -= 1\n",
    "print(supa_cool)\n"
   ]
  },
  {
   "cell_type": "markdown",
   "id": "1dccc141",
   "metadata": {},
   "source": [
    "# Word Order"
   ]
  },
  {
   "cell_type": "code",
   "execution_count": null,
   "id": "bdb644c8",
   "metadata": {},
   "outputs": [],
   "source": [
    "# Enter your code here. Read input from STDIN. Print output to STDOUT\n",
    "from collections import OrderedDict\n",
    "iteration = int(input())\n",
    "dic = OrderedDict()\n",
    "while iteration > 0:\n",
    "    word = input()\n",
    "    if word in dic.keys():\n",
    "        dic[word] += 1\n",
    "    else:\n",
    "        dic[word] = 1\n",
    "    iteration -= 1\n",
    "print(len(dic))\n",
    "res = \" \".join(list(map(str, list(dic.values()))))\n",
    "print(res)\n"
   ]
  },
  {
   "cell_type": "markdown",
   "id": "e0284206",
   "metadata": {},
   "source": [
    "# Company Logo"
   ]
  },
  {
   "cell_type": "code",
   "execution_count": null,
   "id": "5e232b75",
   "metadata": {},
   "outputs": [],
   "source": [
    "#!/bin/python3\n",
    "from collections import Counter\n",
    "\n",
    "if __name__ == '__main__':\n",
    "    s = input()\n",
    "    count = list(Counter(s).most_common())\n",
    "    count = sorted(count, key=lambda x: (-x[1], x[0]))\n",
    "    \n",
    "    for pair in count[0:3]:\n",
    "        print(pair[0], pair[1])\n"
   ]
  },
  {
   "cell_type": "markdown",
   "id": "f3f860e4",
   "metadata": {},
   "source": [
    "# Collections.namedtuple()"
   ]
  },
  {
   "cell_type": "code",
   "execution_count": null,
   "id": "80313d26",
   "metadata": {},
   "outputs": [],
   "source": [
    "# Enter your code here. Read input from STDIN. Print output to STDOUT\n",
    "from collections import namedtuple\n",
    "iterable = int(input())\n",
    "division = iterable\n",
    "names = input().split()\n",
    "tup_obj = namedtuple(\"tup_obj\", names)\n",
    "grades = 0\n",
    "while iterable > 0:\n",
    "    temp_line = input().split()\n",
    "    xyz = tup_obj(temp_line[0], temp_line[1], temp_line[2], temp_line[3])\n",
    "    grades += int(xyz.MARKS)\n",
    "    iterable -=1\n",
    "    \n",
    "print(round(grades/division, 2))\n",
    "    \n"
   ]
  },
  {
   "cell_type": "markdown",
   "id": "4ba1b43d",
   "metadata": {},
   "source": [
    "# Collections.deque()"
   ]
  },
  {
   "cell_type": "code",
   "execution_count": null,
   "id": "62a9a78a",
   "metadata": {},
   "outputs": [],
   "source": [
    "# Enter your code here. Read input from STDIN. Print output to STDOUT\n",
    "from collections import deque\n",
    "d = deque()\n",
    "iterable = int(input())\n",
    "while iterable > 0:\n",
    "    to_do = input()\n",
    "    if \"left\" in to_do :\n",
    "        if \"pop\" in to_do :\n",
    "            d.popleft()\n",
    "        else:\n",
    "            d.appendleft(int(to_do[-1]))\n",
    "    elif 'pop' in to_do:\n",
    "        d.pop()\n",
    "    else:\n",
    "        d.append(int(to_do[-1]))\n",
    "    iterable -=1\n",
    "print(*d)\n"
   ]
  },
  {
   "cell_type": "markdown",
   "id": "564710ce",
   "metadata": {},
   "source": [
    "# Time Delta"
   ]
  },
  {
   "cell_type": "code",
   "execution_count": null,
   "id": "55028adc",
   "metadata": {},
   "outputs": [],
   "source": [
    "#!/bin/python3\n",
    "import os\n",
    "from datetime import datetime\n",
    "# Complete the time_delta function below.\n",
    "def time_delta(t1, t2):\n",
    "    \n",
    "    time_format = '%a %d %b %Y %H:%M:%S %z'\n",
    "    t1 = datetime.strptime(t1, time_format)\n",
    "    t2 = datetime.strptime(t2, time_format)\n",
    "    return str(abs(int((t1 - t2).total_seconds())))\n",
    "if __name__ == '__main__':\n",
    "    \n",
    "    fptr = open(os.environ['OUTPUT_PATH'], 'w')\n",
    "    t = int(input())\n",
    "    for t_itr in range(t):\n",
    "        t1 = input()\n",
    "        t2 = input()\n",
    "        delta = time_delta(t1, t2)\n",
    "        fptr.write(delta + '\\n')\n",
    "    fptr.close()\n"
   ]
  },
  {
   "cell_type": "markdown",
   "id": "e528509d",
   "metadata": {},
   "source": [
    "# Calendar Module"
   ]
  },
  {
   "cell_type": "code",
   "execution_count": null,
   "id": "4890e417",
   "metadata": {},
   "outputs": [],
   "source": [
    "# Enter your code here. Read input from STDIN. Print output to STDOUT\n",
    "import datetime\n",
    "\n",
    "month, day, year = map(int, input().split())\n",
    "date = datetime.date(year, month, day)\n",
    "print(date.strftime(\"%A\").upper())\n"
   ]
  },
  {
   "cell_type": "markdown",
   "id": "6764dce9",
   "metadata": {},
   "source": [
    "# XML 1 - Find the Score"
   ]
  },
  {
   "cell_type": "code",
   "execution_count": null,
   "id": "323215cc",
   "metadata": {},
   "outputs": [],
   "source": [
    "\n",
    "def get_attr_number(node):\n",
    "    # your code goes here\n",
    "    count = 0\n",
    "    for element in node.iter():\n",
    "        count += len(element.attrib)\n",
    "        \n",
    "    return count\n"
   ]
  },
  {
   "cell_type": "markdown",
   "id": "e25787cf",
   "metadata": {},
   "source": [
    "# XML2 - Find the Maximum Depth"
   ]
  },
  {
   "cell_type": "code",
   "execution_count": null,
   "id": "5fa2f7c6",
   "metadata": {},
   "outputs": [],
   "source": [
    "\n",
    "maxdepth = 0\n",
    "def depth(elem, level):\n",
    "    global maxdepth\n",
    "    # your code goes here\n",
    "    if level < 0:\n",
    "        level = 0\n",
    "    if maxdepth < level:\n",
    "        maxdepth = level\n",
    "    for x in elem:\n",
    "        depth(x, level+1)\n"
   ]
  },
  {
   "cell_type": "markdown",
   "id": "97029f86",
   "metadata": {},
   "source": [
    "# Standardize Mobile Number Using Decorators"
   ]
  },
  {
   "cell_type": "code",
   "execution_count": null,
   "id": "343c181e",
   "metadata": {},
   "outputs": [],
   "source": [
    "def wrapper(f):\n",
    "    def fun(l):\n",
    "        # complete the function\n",
    "        end = []\n",
    "        for num in l:\n",
    "            if len(num) > 10 and num.startswith(\"91\"):\n",
    "                num = num[2:]\n",
    "            elif len(num) > 10 and num.startswith(\"0\"):\n",
    "                num = num[1:]\n",
    "            elif len(num) > 10 and num.startswith(\"+91\"):\n",
    "                num = num[3:]\n",
    "            end.append(num)\n",
    "        res = ['+91 ' + x[:5] + \" \" + x[5:] for x in end]\n",
    "        f(res)\n",
    "    return fun\n"
   ]
  },
  {
   "cell_type": "markdown",
   "id": "55a516a5",
   "metadata": {},
   "source": [
    "# Decorators 2 - Name Directory"
   ]
  },
  {
   "cell_type": "code",
   "execution_count": null,
   "id": "4a7f262d",
   "metadata": {},
   "outputs": [],
   "source": [
    "\n",
    "def person_lister(f):\n",
    "    def inner(people):\n",
    "        people.sort(key=lambda x: int(x[2]))\n",
    "        return [f(person) for person in people]\n",
    "    return inner\n"
   ]
  },
  {
   "cell_type": "markdown",
   "id": "27196114",
   "metadata": {},
   "source": [
    "# Validating Email Addresses With a Filter"
   ]
  },
  {
   "cell_type": "code",
   "execution_count": null,
   "id": "64e6b9e8",
   "metadata": {},
   "outputs": [],
   "source": [
    "def fun(s):\n",
    "    # return True if s is a valid email, else return False\n",
    "    import re\n",
    "    pattern = r'^[a-zA-Z0-9_%+-]+@[a-zA-Z0-9-]+\\.[a-zA-Z]{1,3}$'\n",
    "    \n",
    "    # Use regex to check if the email matches the pattern\n",
    "    if re.match(pattern, s):\n",
    "        return True\n",
    "    else:\n",
    "        return False\n",
    "    \n",
    "        \n",
    "    \n",
    "    \n",
    "    \n"
   ]
  },
  {
   "cell_type": "markdown",
   "id": "42ae8fca",
   "metadata": {},
   "source": [
    "# Map and Lambda Function"
   ]
  },
  {
   "cell_type": "code",
   "execution_count": null,
   "id": "c67af995",
   "metadata": {},
   "outputs": [],
   "source": [
    "cube = lambda x: x**3# complete the lambda function \n",
    "\n",
    "def fibonacci(n):\n",
    "    \n",
    "    if n == 0:\n",
    "        return []\n",
    "    \n",
    "    if n == 1:\n",
    "        return [0]\n",
    "    \n",
    "    base = [0, 1]\n",
    "    \n",
    "    while n > 2:\n",
    "        tmp = base[-1] + base[-2]\n",
    "        base.append(tmp)\n",
    "        n-=1\n",
    "    return base\n",
    "    # return a list of fibonacci numbers\n",
    "\n",
    "\n"
   ]
  },
  {
   "cell_type": "markdown",
   "id": "849bf8eb",
   "metadata": {},
   "source": [
    "# Exceptions"
   ]
  },
  {
   "cell_type": "code",
   "execution_count": null,
   "id": "e700371f",
   "metadata": {},
   "outputs": [],
   "source": [
    "# Enter your code here. Read input from STDIN. Print output to STDOUT\n",
    "\n",
    "iterable = int(input())\n",
    "\n",
    "while iterable > 0:\n",
    "    \n",
    "    a, b = input().split()\n",
    "    try:\n",
    "        print(int(a)//int(b))\n",
    "    except ValueError as e:\n",
    "        print(\"Error Code:\", e)\n",
    "    except ZeroDivisionError as e:\n",
    "        print(\"Error Code:\", e)\n",
    "    iterable -=1\n"
   ]
  },
  {
   "cell_type": "markdown",
   "id": "6cf2428b",
   "metadata": {},
   "source": [
    "# Athlete Sort"
   ]
  },
  {
   "cell_type": "code",
   "execution_count": null,
   "id": "8fe06eea",
   "metadata": {},
   "outputs": [],
   "source": [
    "#!/bin/python3\n",
    "import math\n",
    "import os\n",
    "import random\n",
    "import re\n",
    "import sys\n",
    "\n",
    "if __name__ == '__main__':\n",
    "    nm = input().split()\n",
    "    n = int(nm[0])\n",
    "    m = int(nm[1])\n",
    "    arr = []\n",
    "    for _ in range(n):\n",
    "        arr.append(list(map(int, input().rstrip().split())))\n",
    "    k = int(input())\n",
    "    \n",
    "    \n",
    "    for score in sorted(arr, key=lambda e: e[k]):\n",
    "        print(*score)\n"
   ]
  },
  {
   "cell_type": "markdown",
   "id": "97e6eb0c",
   "metadata": {},
   "source": [
    "# ginortS"
   ]
  },
  {
   "cell_type": "code",
   "execution_count": null,
   "id": "5ad478fc",
   "metadata": {},
   "outputs": [],
   "source": [
    "# Enter your code here. Read input from STDIN. Print output to STDOUT\n",
    "string = sorted(input())\n",
    "qui = [char for char in string if char.islower()]\n",
    "quo = [char for char in string if char.isupper()]\n",
    "qua = [char for char in string if char.isnumeric()]\n",
    "even_num =[char for char in qua if int(char) % 2==0]\n",
    "odd_num = [char for char in qua if char not in even_num]\n",
    "print(\"\".join(qui+quo+odd_num+even_num))\n"
   ]
  },
  {
   "cell_type": "markdown",
   "id": "01d7e526",
   "metadata": {},
   "source": [
    "# Input()"
   ]
  },
  {
   "cell_type": "code",
   "execution_count": null,
   "id": "06e5cbe5",
   "metadata": {},
   "outputs": [],
   "source": [
    "# Enter your code here. Read input from STDIN. Print output to STDOUT\n",
    "x, result= list(map(int, input().split()))\n",
    "operation = input()\n",
    "print(eval(operation)==result)\n"
   ]
  },
  {
   "cell_type": "markdown",
   "id": "4688683d",
   "metadata": {},
   "source": [
    "# Arrays"
   ]
  },
  {
   "cell_type": "code",
   "execution_count": null,
   "id": "9b54b647",
   "metadata": {},
   "outputs": [],
   "source": [
    "\n",
    "def arrays(arr):\n",
    "    # complete this function\n",
    "    # use numpy.array\n",
    "    \n",
    "    return numpy.array(arr, dtype=float)[::-1]\n"
   ]
  },
  {
   "cell_type": "markdown",
   "id": "63ab2016",
   "metadata": {},
   "source": [
    "# Shape and Reshape"
   ]
  },
  {
   "cell_type": "code",
   "execution_count": null,
   "id": "e7a7ac4f",
   "metadata": {},
   "outputs": [],
   "source": [
    "import numpy\n",
    "listone = numpy.array(list(map(int, input().split())))\n",
    "listone.shape = (3, 3)\n",
    "print(listone)\n"
   ]
  },
  {
   "cell_type": "markdown",
   "id": "67b4a041",
   "metadata": {},
   "source": [
    "# Transpose and Flatten"
   ]
  },
  {
   "cell_type": "code",
   "execution_count": null,
   "id": "7c2833d1",
   "metadata": {},
   "outputs": [],
   "source": [
    "import numpy\n",
    "\n",
    "iterator = list(map(int, input().split()))\n",
    "arr = []\n",
    "while iterator[0] > 0:\n",
    "    values = list(map(int, input().split()))\n",
    "    arr.append(values)\n",
    "    iterator[0] -= 1\n",
    "arr = numpy.array(arr)\n",
    "print(numpy.transpose(arr))\n",
    "print(arr.flatten())\n"
   ]
  },
  {
   "cell_type": "markdown",
   "id": "4357f2fb",
   "metadata": {},
   "source": [
    "# Concatenate"
   ]
  },
  {
   "cell_type": "code",
   "execution_count": null,
   "id": "f6617249",
   "metadata": {},
   "outputs": [],
   "source": [
    "import numpy\n",
    "iterator1, iterator2, bazinga = list(map(int, input().split()))\n",
    "ls_1 = []\n",
    "ls_2 = []\n",
    "while iterator1 > 0:\n",
    "    inp = list(map(int, input().split()))\n",
    "    ls_1.append(inp)\n",
    "    iterator1 -= 1\n",
    "    \n",
    "while iterator2 > 0:\n",
    "    inp = list(map(int, input().split()))\n",
    "    ls_2.append(inp)\n",
    "    iterator2 -= 1\n",
    "    \n",
    "ls_1 = numpy.array(ls_1)\n",
    "ls_2 = numpy.array(ls_2)\n",
    "\n",
    "print(numpy.concatenate([ls_1, ls_2]))\n"
   ]
  },
  {
   "cell_type": "markdown",
   "id": "ac8b9b94",
   "metadata": {},
   "source": [
    "# Zeros and Ones"
   ]
  },
  {
   "cell_type": "code",
   "execution_count": null,
   "id": "130d1664",
   "metadata": {},
   "outputs": [],
   "source": [
    "import numpy\n",
    "stats = list(map(int, input().split()))\n",
    "print(numpy.zeros(stats, dtype=int))\n",
    "print(numpy.ones(stats, dtype=int))\n"
   ]
  },
  {
   "cell_type": "markdown",
   "id": "8bd8371e",
   "metadata": {},
   "source": [
    "# Eye and Identity"
   ]
  },
  {
   "cell_type": "code",
   "execution_count": null,
   "id": "22f9f836",
   "metadata": {},
   "outputs": [],
   "source": [
    "import numpy\n",
    "numpy.set_printoptions(legacy=\"1.13\")\n",
    "\n",
    "rows, colum = list(map(int, input().split()))\n",
    "if rows == colum:\n",
    "    print(numpy.identity(rows))\n",
    "else:\n",
    "    print(numpy.eye(rows, colum))\n"
   ]
  },
  {
   "cell_type": "markdown",
   "id": "9a977651",
   "metadata": {},
   "source": [
    "# Array Mathematics"
   ]
  },
  {
   "cell_type": "code",
   "execution_count": null,
   "id": "5b00e430",
   "metadata": {},
   "outputs": [],
   "source": [
    "import numpy\n",
    "\n",
    "iteration, trash = list(map(int, input().split()))\n",
    "arr_1 = numpy.array([list(map(int, input().split())) for _ in range(iteration)])\n",
    "arr_2 = numpy.array([list(map(int, input().split())) for _ in range(iteration)])\n",
    "\n",
    "print(numpy.add(arr_1, arr_2))\n",
    "print(numpy.subtract(arr_1, arr_2))\n",
    "print(numpy.multiply(arr_1, arr_2))\n",
    "print(numpy.floor_divide(arr_1, arr_2))\n",
    "print(numpy.mod(arr_1, arr_2))\n",
    "print(numpy.power(arr_1, arr_2))\n"
   ]
  },
  {
   "cell_type": "markdown",
   "id": "e7a58f93",
   "metadata": {},
   "source": [
    "# Floor, Ceil and Rint"
   ]
  },
  {
   "cell_type": "code",
   "execution_count": null,
   "id": "86bf4c88",
   "metadata": {},
   "outputs": [],
   "source": [
    "import numpy\n",
    "numpy.set_printoptions(legacy=\"1.13\")\n",
    "\n",
    "arr = numpy.array([float(x) for x in input().split()])\n",
    "print(numpy.floor(arr))\n",
    "print(numpy.ceil(arr))\n",
    "print(numpy.rint(arr))\n"
   ]
  },
  {
   "cell_type": "markdown",
   "id": "5be4bae7",
   "metadata": {},
   "source": [
    "# Sum and Prod"
   ]
  },
  {
   "cell_type": "code",
   "execution_count": null,
   "id": "b2a234b0",
   "metadata": {},
   "outputs": [],
   "source": [
    "import numpy\n",
    "iteration, trash = list(map(int, input().split()))\n",
    "arr = []\n",
    "while iteration > 0:\n",
    "    tmp_arr = [int(x) for x in input().split()]\n",
    "    \n",
    "    arr.append(tmp_arr)\n",
    "    \n",
    "    iteration -=1\n",
    "print(numpy.prod(numpy.sum(numpy.array(arr), axis=0)))\n"
   ]
  },
  {
   "cell_type": "markdown",
   "id": "c8b3a071",
   "metadata": {},
   "source": [
    "# Min and Max"
   ]
  },
  {
   "cell_type": "code",
   "execution_count": null,
   "id": "37dd3b21",
   "metadata": {},
   "outputs": [],
   "source": [
    "import numpy\n",
    "\n",
    "iteration, trash = list(map(int, input().split()))\n",
    "arr = []\n",
    "while iteration>0:\n",
    "    tmp = [int(x) for x in input().split()]\n",
    "    arr.append(tmp)\n",
    "    iteration -= 1\n",
    "    \n",
    "print(numpy.max(numpy.min(numpy.array(arr), axis=1)))\n"
   ]
  },
  {
   "cell_type": "markdown",
   "id": "87bf0d34",
   "metadata": {},
   "source": [
    "# Mean, Var, and Std"
   ]
  },
  {
   "cell_type": "code",
   "execution_count": null,
   "id": "6c87f725",
   "metadata": {},
   "outputs": [],
   "source": [
    "import numpy\n",
    "\n",
    "\n",
    "iteration, trash = list(map(int, input().split()))\n",
    "arr = []\n",
    "while iteration > 0:\n",
    "    tmp_arr = [int(x) for x in input().split()]\n",
    "    \n",
    "    arr.append(tmp_arr)\n",
    "    \n",
    "    iteration -=1\n",
    "    \n",
    "arr = numpy.array(arr)\n",
    "print(numpy.mean(arr, axis=1))\n",
    "print(numpy.var(arr, axis=0))\n",
    "print(round(numpy.std(arr), 11))\n"
   ]
  },
  {
   "cell_type": "markdown",
   "id": "ac19b366",
   "metadata": {},
   "source": [
    "# Dot and Cross"
   ]
  },
  {
   "cell_type": "code",
   "execution_count": null,
   "id": "aa1f5ebd",
   "metadata": {},
   "outputs": [],
   "source": [
    "import numpy\n",
    "\n",
    "iteration = int(input())\n",
    "arr_1 = numpy.array([list(map(int, input().split())) for _ in range(iteration)])\n",
    "arr_2 = numpy.array([list(map(int, input().split())) for _ in range(iteration)])\n",
    "print(arr_1 @ arr_2)\n"
   ]
  },
  {
   "cell_type": "markdown",
   "id": "5e29507b",
   "metadata": {},
   "source": [
    "# Inner and Outer"
   ]
  },
  {
   "cell_type": "code",
   "execution_count": null,
   "id": "46599937",
   "metadata": {},
   "outputs": [],
   "source": [
    "import numpy\n",
    "\n",
    "arr_1 = numpy.array([int(x) for x in input().split()])\n",
    "arr_2 = numpy.array([int(x) for x in input().split()])\n",
    "print(numpy.inner(arr_1, arr_2))\n",
    "print(numpy.outer(arr_1, arr_2))\n"
   ]
  },
  {
   "cell_type": "markdown",
   "id": "35f92b3c",
   "metadata": {},
   "source": [
    "# Polynomials"
   ]
  },
  {
   "cell_type": "code",
   "execution_count": null,
   "id": "a65276a4",
   "metadata": {},
   "outputs": [],
   "source": [
    "import numpy\n",
    "\n",
    "arr = numpy.array([float(x) for x in input().split()])\n",
    "x = int(input())\n",
    "print(numpy.polyval(arr, x))\n"
   ]
  },
  {
   "cell_type": "markdown",
   "id": "cef0cace",
   "metadata": {},
   "source": [
    "# Linear Algebra"
   ]
  },
  {
   "cell_type": "code",
   "execution_count": null,
   "id": "a379c0ae",
   "metadata": {},
   "outputs": [],
   "source": [
    "import numpy\n",
    "\n",
    "iteration = int(input())\n",
    "arr = []\n",
    "while iteration > 0:\n",
    "    tmp_arr = [float(x) for x in input().split()]\n",
    "    \n",
    "    arr.append(tmp_arr)\n",
    "    \n",
    "    iteration -=1\n",
    "    \n",
    "print(round(numpy.linalg.det(numpy.array(arr)), 2))\n"
   ]
  },
  {
   "cell_type": "markdown",
   "id": "13b60ad7",
   "metadata": {},
   "source": [
    "# Detect Floating Point Number"
   ]
  },
  {
   "cell_type": "code",
   "execution_count": null,
   "id": "7bdf8aac",
   "metadata": {},
   "outputs": [],
   "source": [
    "# Enter your code here. Read input from STDIN. Print output to STDOUT\n",
    "import re\n",
    "iterable = int(input())\n",
    "while iterable > 0:\n",
    "    string = input()\n",
    "    iterable -=1\n",
    "    \n",
    "    if not re.match(r\"[\\+\\-\\.\\d]\", string):\n",
    "        print(\"False\")\n",
    "        continue\n",
    "        \n",
    "    elif len(re.findall(r\"\\.\", string)) > 1:\n",
    "        print(\"False\")\n",
    "        continue\n",
    "        \n",
    "    elif len(string.split(\".\")) != 2:\n",
    "        print(\"False\")\n",
    "        continue\n",
    "        \n",
    "    try:\n",
    "        string = float(string)\n",
    "        print(\"True\")\n",
    "    except:\n",
    "        print(\"False\")\n",
    "        \n"
   ]
  },
  {
   "cell_type": "markdown",
   "id": "97df9506",
   "metadata": {},
   "source": [
    "# Re.split()"
   ]
  },
  {
   "cell_type": "code",
   "execution_count": null,
   "id": "b06afead",
   "metadata": {},
   "outputs": [],
   "source": [
    "regex_pattern = r\"[\\,\\.]\"\t# Do not delete 'r'.\n"
   ]
  },
  {
   "cell_type": "markdown",
   "id": "e6586f5e",
   "metadata": {},
   "source": [
    "# Group(), Groups() & Groupdict()"
   ]
  },
  {
   "cell_type": "code",
   "execution_count": null,
   "id": "cd56e0b4",
   "metadata": {},
   "outputs": [],
   "source": [
    "# Enter your code here. Read input from STDIN. Print output to STDOUT\n",
    "import re\n",
    "string = input()\n",
    "mat = re.findall(r\"([a-z0-9])\\1+\", string)\n",
    "if len(mat) == 0:\n",
    "    print(\"-1\")\n",
    "else:\n",
    "    print(mat[0])\n"
   ]
  },
  {
   "cell_type": "markdown",
   "id": "3e7a03a3",
   "metadata": {},
   "source": [
    "# Re.findall() & Re.finditer()"
   ]
  },
  {
   "cell_type": "code",
   "execution_count": null,
   "id": "53e1c997",
   "metadata": {},
   "outputs": [],
   "source": [
    "# Enter your code here. Read input from STDIN. Print output to STDOUT\n",
    "import re\n",
    "string = input()\n",
    "pattern = r\"(?=([^aeiouAEIOU][aeiouAEIOU]{2,}[^aeiouAEIOU]))\"\n",
    "match = re.findall(pattern, string)\n",
    "if len(match) == 0:\n",
    "    print(\"-1\")\n",
    "else:\n",
    "    for char in match:\n",
    "        print(char[1:-1])\n"
   ]
  },
  {
   "cell_type": "markdown",
   "id": "cb18945d",
   "metadata": {},
   "source": [
    "# Re.start() & Re.end()"
   ]
  },
  {
   "cell_type": "code",
   "execution_count": null,
   "id": "af7e3208",
   "metadata": {},
   "outputs": [],
   "source": [
    "# Enter your code here. Read input from STDIN. Print output to STDOUT\n",
    "import re\n",
    "string = input()\n",
    "target = input()\n",
    "matching = True\n",
    "not_safe = True\n",
    "i = 0\n",
    "while matching:\n",
    "    try:\n",
    "        bingo = re.search(target, string)\n",
    "        string = string[int(bingo.start())+1:]\n",
    "        not_safe = False\n",
    "        print(f\"({bingo.start()+i}, {bingo.end()-1+i})\")\n",
    "        i += int(bingo.start())+1\n",
    "    except:\n",
    "        if not_safe:\n",
    "            print(\"(-1, -1)\")\n",
    "        matching = False\n"
   ]
  },
  {
   "cell_type": "markdown",
   "id": "59efc3b5",
   "metadata": {},
   "source": [
    "# Regex Substitution"
   ]
  },
  {
   "cell_type": "code",
   "execution_count": null,
   "id": "77809ba7",
   "metadata": {},
   "outputs": [],
   "source": [
    "# Enter your code here. Read input from STDIN. Print output to STDOUT\n",
    "import re\n",
    "def and_cahnge(match):\n",
    "    return \" and \"\n",
    "def or_cahnge(match):\n",
    "    return \" or \"\n",
    "iterator = int(input())\n",
    "and_pattern = r\"(\\s\\&{2}\\s)\"\n",
    "or_pattern = r\"(\\s\\|{2}\\s)\"\n",
    "while iterator > 0:\n",
    "    \n",
    "    String = input()\n",
    "    ceck = True\n",
    "    String = re.sub(and_pattern, and_cahnge, String)\n",
    "    String = re.sub(or_pattern, or_cahnge, String)\n",
    "    \n",
    "    String = re.sub(and_pattern, and_cahnge, String)\n",
    "    String = re.sub(or_pattern, or_cahnge, String)\n",
    "    print(String)\n",
    "    iterator -=1\n",
    "    \n",
    "    \n",
    "    \n",
    "    \n",
    "#c $&1|| or and and &|&&| & | | &&c\n",
    "#c $&1|| or and && &|&&| & | | &&c\n"
   ]
  },
  {
   "cell_type": "markdown",
   "id": "f99c55a7",
   "metadata": {},
   "source": [
    "# Validating Roman Numerals"
   ]
  },
  {
   "cell_type": "code",
   "execution_count": null,
   "id": "48f336d3",
   "metadata": {},
   "outputs": [],
   "source": [
    "regex_pattern = r\"M{0,3}(CM|CD|D?C{0,3})(XC|XL|L?X{0,3})(IX|IV|V?I{0,3})$\"\n"
   ]
  },
  {
   "cell_type": "markdown",
   "id": "97a7c6d9",
   "metadata": {},
   "source": [
    "# Validating phone numbers"
   ]
  },
  {
   "cell_type": "code",
   "execution_count": null,
   "id": "62fa7f6e",
   "metadata": {},
   "outputs": [],
   "source": [
    "# Enter your code here. Read input from STDIN. Print output to STDOUT\n",
    "import re\n",
    "pattern = r\"^[789]\\d{9}$\"\n",
    "iteration = int(input())\n",
    "while iteration > 0:\n",
    "    \n",
    "    string = input()\n",
    "    if re.match(pattern, string):\n",
    "        print(\"YES\")\n",
    "    else:\n",
    "        print(\"NO\")\n",
    "    \n",
    "    iteration -= 1\n",
    "    \n",
    "    \n",
    "    \n"
   ]
  },
  {
   "cell_type": "markdown",
   "id": "2baf1218",
   "metadata": {},
   "source": [
    "# Validating and Parsing Email Addresses"
   ]
  },
  {
   "cell_type": "code",
   "execution_count": null,
   "id": "b7ec805c",
   "metadata": {},
   "outputs": [],
   "source": [
    "# Enter your code here. Read input from STDIN. Print output to STDOUT\n",
    "import re\n",
    "import email.utils\n",
    "iteration = int(input())\n",
    "pattern = r\"^[a-zA-Z][\\w\\.\\-]*@[a-zA-Z]*\\.[a-zA-Z]{0,3}$\"\n",
    "while iteration >0:\n",
    "    \n",
    "    string = input()\n",
    "    e_mail = email.utils.parseaddr(string)[1]\n",
    "    if re.match(pattern, e_mail):\n",
    "        print(string)\n",
    "    iteration -=1\n"
   ]
  },
  {
   "cell_type": "markdown",
   "id": "13c723ac",
   "metadata": {},
   "source": [
    "# Hex Color Code"
   ]
  },
  {
   "cell_type": "code",
   "execution_count": null,
   "id": "a4eae001",
   "metadata": {},
   "outputs": [],
   "source": [
    "# Enter your code here. Read input from STDIN. Print output to STDOUT\n",
    "import re\n",
    "iterator = int(input())\n",
    "pattern = r\"[:\\s][\\s]?#([a-fA-F0-9]{6}|[a-fA-F0-9]{3})\"\n",
    "color_codes = []\n",
    "while iterator >0:\n",
    "    string = input()\n",
    "    matches = re.findall(pattern, string)\n",
    "    color_codes.extend(matches)\n",
    "        \n",
    "    iterator -=1\n",
    "for x in color_codes:\n",
    "    print(\"#\", x, sep=\"\")\n"
   ]
  },
  {
   "cell_type": "markdown",
   "id": "f28992a7",
   "metadata": {},
   "source": [
    "# Validating UID"
   ]
  },
  {
   "cell_type": "code",
   "execution_count": null,
   "id": "b524f759",
   "metadata": {},
   "outputs": [],
   "source": [
    "# Enter your code here. Read input from STDIN. Print output to STDOUT\n",
    "import re\n",
    "pattern = r\"^(?=(?:.*[A-Z]){2,})(?=(?:.*\\d){3,})(?!.*(.).*\\1)[A-Za-z0-9]{10}$\"\n",
    "iterator = int(input())\n",
    "while iterator>0:\n",
    "    string = input()\n",
    "    if re.match(pattern, string):\n",
    "        print(\"Valid\")\n",
    "    else:\n",
    "        print(\"Invalid\")\n",
    "    iterator -=1\n"
   ]
  },
  {
   "cell_type": "markdown",
   "id": "f3d17c7c",
   "metadata": {},
   "source": [
    "# Validating Credit Card Numbers"
   ]
  },
  {
   "cell_type": "code",
   "execution_count": null,
   "id": "c383142a",
   "metadata": {},
   "outputs": [],
   "source": [
    "# Enter your code here. Read input from STDIN. Print output to STDOUT\n",
    "import re\n",
    "iterable = int(input())\n",
    "pattern = r\"(?!.*(\\d)\\-?\\1\\-?\\1\\-?\\1)(?=([0-9\\-]))^[456]\\d{3}\\-?\\d{4}\\-?\\d{4}\\-?\\d{4}$\"\n",
    "while iterable > 0:\n",
    "    string = input()\n",
    "    if re.match(pattern, string):\n",
    "        print(\"Valid\")\n",
    "    else:\n",
    "        print(\"Invalid\")\n",
    "    \n",
    "    iterable -=1\n"
   ]
  },
  {
   "cell_type": "markdown",
   "id": "a36e8e19",
   "metadata": {},
   "source": [
    "# HTML Parser - Part 1"
   ]
  },
  {
   "cell_type": "code",
   "execution_count": null,
   "id": "a4b83bf4",
   "metadata": {},
   "outputs": [],
   "source": [
    "# Enter your code here. Read input from STDIN. Print output to STD\n",
    "from html.parser import HTMLParser\n",
    "class myparser(HTMLParser):\n",
    "    \n",
    "    def handle_starttag(self, tag, attrs):\n",
    "        print(\"Start :\", tag)\n",
    "        i = 0\n",
    "        for _ in range(len(attrs)):\n",
    "            \n",
    "            print(f\"-> {attrs[i][0]} > {attrs[i][1]}\")\n",
    "            i+=1\n",
    "    \n",
    "    def handle_endtag(self, tag):\n",
    "        print(\"End   :\", tag)\n",
    "        \n",
    "        \n",
    "    def handle_startendtag(self, tag, attrs):\n",
    "        print(\"Empty :\", tag)\n",
    "        i = 0\n",
    "        for _ in range(len(attrs)):\n",
    "            \n",
    "            print(f\"-> {attrs[i][0]} > {attrs[i][1]}\")\n",
    "            i+=1\n",
    "    \n",
    "    \n",
    "iterator = int(input())\n",
    "# string = \"\"\n",
    "parser = myparser()\n",
    "while iterator>0:\n",
    "    string = input()\n",
    "    parser.feed(string)\n",
    "    iterator-=1\n",
    "    \n",
    "\n",
    "#parser.feed(string)\n"
   ]
  },
  {
   "cell_type": "markdown",
   "id": "d706b6be",
   "metadata": {},
   "source": [
    "# HTML Parser - Part 2"
   ]
  },
  {
   "cell_type": "code",
   "execution_count": null,
   "id": "534a602b",
   "metadata": {},
   "outputs": [],
   "source": [
    "from html.parser import HTMLParser\n",
    "class myparser(HTMLParser):\n",
    "    \n",
    "    def handle_comment(self, data):\n",
    "        if len(data.split(\"\\n\"))>1:\n",
    "            print(\">>> Multi-line Comment\", data, sep=\"\\n\")\n",
    "        else:\n",
    "            print(\">>> Single-line Comment\", data, sep=\"\\n\")\n",
    "          \n",
    "    def handle_data(self, data):\n",
    "        if data!=\"\\n\":\n",
    "            print(\">>> Data\", data, sep=\"\\n\")\n",
    "  \n",
    "html = \"\"\n",
    "for i in range(int(input())):\n",
    "    html += input().rstrip()\n",
    "    html += '\\n'\n",
    "    \n",
    "parser = myparser()\n",
    "parser.feed(html)\n",
    "parser.close()\n"
   ]
  },
  {
   "cell_type": "markdown",
   "id": "e784f32a",
   "metadata": {},
   "source": [
    "# Detect HTML Tags, Attributes and Attribute Values"
   ]
  },
  {
   "cell_type": "code",
   "execution_count": null,
   "id": "fe3dafac",
   "metadata": {},
   "outputs": [],
   "source": [
    "# Enter your code here. Read input from STDIN. Print output to STDOUT\n",
    "# Enter your code here. Read input from STDIN. Print output to STD\n",
    "from html.parser import HTMLParser\n",
    "class myparser(HTMLParser):\n",
    "    \n",
    "    def handle_starttag(self, tag, attrs):\n",
    "        print(tag)\n",
    "        i = 0\n",
    "        for _ in range(len(attrs)):\n",
    "            \n",
    "            print(f\"-> {attrs[i][0]} > {attrs[i][1]}\")\n",
    "            i+=1\n",
    "    \n",
    "        \n",
    "        \n",
    "    def handle_startendtag(self, tag, attrs):\n",
    "        print(tag)\n",
    "        i = 0\n",
    "        for _ in range(len(attrs)):\n",
    "            \n",
    "            print(f\"-> {attrs[i][0]} > {attrs[i][1]}\")\n",
    "            i+=1\n",
    "    \n",
    "    \n",
    "iterator = int(input())\n",
    "# string = \"\"\n",
    "parser = myparser()\n",
    "while iterator>0:\n",
    "    string = input()\n",
    "    parser.feed(string)\n",
    "    iterator-=1\n"
   ]
  },
  {
   "cell_type": "markdown",
   "id": "b172e320",
   "metadata": {},
   "source": [
    "# Validating Postal Codes"
   ]
  },
  {
   "cell_type": "code",
   "execution_count": null,
   "id": "46df4a7d",
   "metadata": {},
   "outputs": [],
   "source": [
    "regex_integer_in_range = r\"[1-9]\\d{5}$\"\t# Do not delete 'r'.\n",
    "regex_alternating_repetitive_digit_pair = r\"(?=(\\d).\\1)\"\t# Do not delete 'r'.\n"
   ]
  },
  {
   "cell_type": "markdown",
   "id": "b47c52d9",
   "metadata": {},
   "source": [
    "# Matrix Script"
   ]
  },
  {
   "cell_type": "code",
   "execution_count": null,
   "id": "197741f0",
   "metadata": {},
   "outputs": [],
   "source": [
    "import re\n",
    "\n",
    "def decode(string):\n",
    "    res = string.group(0)[0]+ \" \" +string.group(0)[-1]\n",
    "    return res\n",
    "    \n",
    "\n",
    "first_multiple_input = input().rstrip().split()\n",
    "n = int(first_multiple_input[0])\n",
    "m = int(first_multiple_input[1])\n",
    "matrix = []\n",
    "for _ in range(n):\n",
    "    matrix_item = input()\n",
    "    matrix.append(matrix_item)\n",
    "raw_decoded = \"\"\n",
    "for iter_col in range(m):\n",
    "    for iter_row in range(n):\n",
    "        raw_decoded = raw_decoded + matrix[iter_row][iter_col]\n",
    "        \n",
    "# This$#is% Matrix#  %!\n",
    "pattern = r\"[A-Za-z0-9][^A-Za-z0-9]+[A-Za-z0-9]\"\n",
    "print(re.sub(pattern, decode, raw_decoded))\n"
   ]
  },
  {
   "cell_type": "markdown",
   "id": "4afc35c2",
   "metadata": {},
   "source": [
    "# Number Line Jumps"
   ]
  },
  {
   "cell_type": "code",
   "execution_count": null,
   "id": "c3254197",
   "metadata": {},
   "outputs": [],
   "source": [
    "#!/bin/python3\n",
    "import math\n",
    "import os\n",
    "import random\n",
    "import re\n",
    "import sys\n",
    "#\n",
    "# Complete the 'kangaroo' function below.\n",
    "#\n",
    "# The function is expected to return a STRING.\n",
    "# The function accepts following parameters:\n",
    "#  1. INTEGER x1\n",
    "#  2. INTEGER v1\n",
    "#  3. INTEGER x2\n",
    "#  4. INTEGER v2\n",
    "#\n",
    "def kangaroo(x1, v1, x2, v2):\n",
    "    # Write your code here\n",
    "    if ((x1>x2 and v1>=v2) or (x1<x2 and v1<=v2)):\n",
    "        return \"NO\"\n",
    "    \n",
    "    test = (abs(x1-x2)/abs(v1-v2))% 1\n",
    "    if test == 0:\n",
    "        return \"YES\"\n",
    "    return \"NO\"\n",
    "if __name__ == '__main__':\n",
    "    fptr = open(os.environ['OUTPUT_PATH'], 'w')\n",
    "    first_multiple_input = input().rstrip().split()\n",
    "    x1 = int(first_multiple_input[0])\n",
    "    v1 = int(first_multiple_input[1])\n",
    "    x2 = int(first_multiple_input[2])\n",
    "    v2 = int(first_multiple_input[3])\n",
    "    result = kangaroo(x1, v1, x2, v2)\n",
    "    fptr.write(result + '\\n')\n",
    "    fptr.close()\n"
   ]
  },
  {
   "cell_type": "markdown",
   "id": "c68b6bf3",
   "metadata": {},
   "source": [
    "# Viral Advertising"
   ]
  },
  {
   "cell_type": "code",
   "execution_count": null,
   "id": "fe4d9682",
   "metadata": {},
   "outputs": [],
   "source": [
    "#!/bin/python3\n",
    "import math\n",
    "import os\n",
    "import random\n",
    "import re\n",
    "import sys\n",
    "#\n",
    "# Complete the 'viralAdvertising' function below.\n",
    "#\n",
    "# The function is expected to return an INTEGER.\n",
    "# The function accepts INTEGER n as parameter.\n",
    "#\n",
    "def viralAdvertising(n):\n",
    "    people = 5\n",
    "    likes = 0\n",
    "    while n > 0:\n",
    "        interaction = math.floor(people/2)\n",
    "        likes += interaction\n",
    "        people = interaction * 3\n",
    "        n-=1\n",
    "    return likes\n",
    "if __name__ == '__main__':\n",
    "    fptr = open(os.environ['OUTPUT_PATH'], 'w')\n",
    "    n = int(input().strip())\n",
    "    result = viralAdvertising(n)\n",
    "    fptr.write(str(result) + '\\n')\n",
    "    fptr.close()\n"
   ]
  },
  {
   "cell_type": "markdown",
   "id": "d8f2c9c8",
   "metadata": {},
   "source": [
    "# Recursive Digit Sum"
   ]
  },
  {
   "cell_type": "code",
   "execution_count": null,
   "id": "7051afc0",
   "metadata": {},
   "outputs": [],
   "source": [
    "#!/bin/python3\n",
    "import math\n",
    "import os\n",
    "import random\n",
    "import re\n",
    "import sys\n",
    "#\n",
    "# Complete the 'superDigit' function below.\n",
    "#\n",
    "# The function is expected to return an INTEGER.\n",
    "# The function accepts following parameters:\n",
    "#  1. STRING n\n",
    "#  2. INTEGER k\n",
    "#\n",
    "# i looked at the function for this exercise on the site:\n",
    "# https://raw.org/puzzle/hackerrank/recursive-digit-sum/\n",
    "def superDigit(n, k):\n",
    "    # reduce the digits by summing them to make computation easyer\n",
    "    n = sum([int(i) for i in n])\n",
    "    # get the remainder from 9, the digital root, and multiply it by K\n",
    "    n = n * k\n",
    "    # repeat the digital root function but offset it by one so it goes\n",
    "    # form 1-9 instead that 0-8, the -1 is to balance the +1 outside\n",
    "    return ((n-1) % 9)+1\n",
    "    \n",
    "    \n",
    "    \n",
    "    \n",
    "    \n",
    "    \n",
    "if __name__ == '__main__':\n",
    "    fptr = open(os.environ['OUTPUT_PATH'], 'w')\n",
    "    first_multiple_input = input().rstrip().split()\n",
    "    n = first_multiple_input[0]\n",
    "    k = int(first_multiple_input[1])\n",
    "    result = superDigit(n, k)\n",
    "    fptr.write(str(result) + '\\n')\n",
    "    fptr.close()\n"
   ]
  }
 ],
 "metadata": {
  "language_info": {
   "name": "python"
  }
 },
 "nbformat": 4,
 "nbformat_minor": 5
}
